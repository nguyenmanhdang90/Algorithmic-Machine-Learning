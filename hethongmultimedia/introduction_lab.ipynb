{
  "nbformat": 4,
  "nbformat_minor": 0,
  "metadata": {
    "kernelspec": {
      "display_name": "Python 3",
      "language": "python",
      "name": "python3"
    },
    "language_info": {
      "codemirror_mode": {
        "name": "ipython",
        "version": 3
      },
      "file_extension": ".py",
      "mimetype": "text/x-python",
      "name": "python",
      "nbconvert_exporter": "python",
      "pygments_lexer": "ipython3",
      "version": "3.7.4"
    },
    "colab": {
      "name": "introduction_lab.ipynb",
      "provenance": [],
      "collapsed_sections": [],
      "toc_visible": true,
      "include_colab_link": true
    }
  },
  "cells": [
    {
      "cell_type": "markdown",
      "metadata": {
        "id": "view-in-github",
        "colab_type": "text"
      },
      "source": [
        "<a href=\"https://colab.research.google.com/github/nguyenmanhdang90/Algorithmic-Machine-Learning/blob/master/hethongmultimedia/introduction_lab.ipynb\" target=\"_parent\"><img src=\"https://colab.research.google.com/assets/colab-badge.svg\" alt=\"Open In Colab\"/></a>"
      ]
    },
    {
      "cell_type": "markdown",
      "metadata": {
        "id": "UZVM2O8clb9x"
      },
      "source": [
        "# Goals of the Laboratory\n",
        "In this introductory laboratory, we expect students to:\n",
        "\n",
        "1. Acquire basic knowledge about Python and Matplotlib\n",
        "2. Gain familiarity with Juypter Notebooks\n",
        "\n",
        "To achieve such goals, we will go through the following steps:\n",
        "\n",
        "1. In section 1, **IPython** and **Jupyter Notebooks** are introduced to help students understand the environment used to work on projects, including those that are part of the course.\n",
        "\n",
        "2. In section 2, we briefly overview **Python** and its syntax. In addition, we cover **Matplotlib**, a very powerful library to plot figures in Python. Finally, we introduce **Pandas**, a python library that is very helpful when manipulating data."
      ]
    },
    {
      "cell_type": "markdown",
      "metadata": {
        "id": "w6l0iy7Klb93"
      },
      "source": [
        "# 1. Python, IPython and Jupyter Notebooks\n",
        "\n",
        "**Python** is a high-level, dynamic, object-oriented programming language. It is a general purpose language, which is designed to be easy to use and easy to read.\n",
        "\n",
        "**IPython** (Interactive Python) is originally developed for Python. Now, it is a command shell for interactive computing supporting multiple programming languages. It offers rich media, shell syntax, tab completion, and history. IPython is based on an architecture that provides parallel and distributed computing. IPython enables parallel applications to be developed, executed, debugged and monitored interactively.\n",
        "\n",
        "**Jupyter Notebooks** are a web-based interactive computational environment for creating IPython notebooks. An IPython notebook is a JSON document containing an ordered list of input/output cells which can contain code, text, mathematics, plots and rich media. Notebooks make data analysis easier to perform, understand and reproduce. All laboratories in this course are prepared as Notebooks. As you can see, in this Notebook, we can put text, images, hyperlinks, source code... The Notebooks can be converted to a number of open standard output formats (HTML, HTML presentation slides, LaTeX, PDF, ReStructuredText, Markdown, Python) through `File` -> `Download As` in the web interface. In addition, Jupyter manages the notebooks' versions through a `checkpoint` mechanism. You can create checkpoint anytime via `File -> Save and Checkpoint`. \n",
        "\n",
        "**NOTE on Checkpointing:** in this course, we use a peculiar environment to work. We don't have a Notebook server: instead, we create on demand clusters with a Notebook front-end. Since your clusters are **ephemeral** (they are terminated after a predefined amount of time), checkpointing is of little use, for anything else than saving your notebook in your ephemeral environment. It is far better to download regularly your notebooks, and to push them to your git repository."
      ]
    },
    {
      "cell_type": "markdown",
      "metadata": {
        "id": "mUngDIGClb94"
      },
      "source": [
        "## 1.1. Tab completion\n",
        "\n",
        "Tab completion is a convenient way to explore the structure of any object you're dealing with. Simply type object_name.<TAB> to view the suggestion for object's attributes. Besides Python objects and keywords, tab completion also works on file and directory names."
      ]
    },
    {
      "cell_type": "code",
      "metadata": {
        "id": "PIQ2BdTflb95"
      },
      "source": [
        "s = \"test function of tab completion\"\n",
        "\n",
        "# type s.<TAB> to see the suggestions\n",
        "\n",
        "# Show your experiments working on a string. \n",
        "# Try splitting a string into its constituent words, and count the number of words."
      ],
      "execution_count": null,
      "outputs": []
    },
    {
      "cell_type": "markdown",
      "metadata": {
        "id": "9CthUgc9lb95"
      },
      "source": [
        "## 1.2. System shell commands\n",
        "\n",
        "To run any command in the system shell, simply prefix it with `!`. For example:"
      ]
    },
    {
      "cell_type": "code",
      "metadata": {
        "id": "9GHsvuR4lb95"
      },
      "source": [
        "# list all file and directories in the current folder\n",
        "!ls"
      ],
      "execution_count": null,
      "outputs": []
    },
    {
      "cell_type": "markdown",
      "metadata": {
        "id": "iJWo-EzVlb96"
      },
      "source": [
        "## 1.3. Magic functions\n",
        "\n",
        "IPython has a set of predefined `magic functions` that you can call with a command line style syntax. There are two types of magics, line-oriented and cell-oriented. \n",
        "\n",
        "**Line magics** are prefixed with the `%` character and work much like OS command-line calls: they get as an argument the rest of the line, *where arguments are passed without parentheses or quotes*. \n",
        "\n",
        "**Cell magics** are prefixed with a double `%%`, and they are functions that get as an argument not only the rest of the line, but also the lines below it in a separate argument."
      ]
    },
    {
      "cell_type": "code",
      "metadata": {
        "id": "n3DWIbFIlb96"
      },
      "source": [
        "%timeit range(1000)"
      ],
      "execution_count": null,
      "outputs": []
    },
    {
      "cell_type": "code",
      "metadata": {
        "id": "yCPzkwPRlb96"
      },
      "source": [
        "%%timeit x = range(10000)\n",
        "max(x)"
      ],
      "execution_count": null,
      "outputs": []
    },
    {
      "cell_type": "markdown",
      "metadata": {
        "id": "XbEOO7Zglb96"
      },
      "source": [
        "For more information, you can follow this [link](http://nbviewer.jupyter.org/github/ipython/ipython/blob/1.x/examples/notebooks/Cell%20Magics.ipynb)"
      ]
    },
    {
      "cell_type": "markdown",
      "metadata": {
        "id": "9tzVckNMlb97"
      },
      "source": [
        "## 1.4. Debugging\n",
        "\n",
        "Whenever an exception occurs, the call stack is printed out to help you to track down the true source of the problem. It is important to gain familiarity with the call stack."
      ]
    },
    {
      "cell_type": "code",
      "metadata": {
        "id": "8pxoxslIlb97",
        "outputId": "bf4134de-e72a-4d28-da79-396d209a39c9"
      },
      "source": [
        "for i in [4,3,2,0]:\n",
        "    print(5/i)"
      ],
      "execution_count": null,
      "outputs": [
        {
          "output_type": "stream",
          "text": [
            "1.25\n",
            "1.6666666666666667\n",
            "2.5\n"
          ],
          "name": "stdout"
        },
        {
          "output_type": "error",
          "ename": "ZeroDivisionError",
          "evalue": "division by zero",
          "traceback": [
            "\u001b[0;31m---------------------------------------------------------------------------\u001b[0m",
            "\u001b[0;31mZeroDivisionError\u001b[0m                         Traceback (most recent call last)",
            "\u001b[0;32m<ipython-input-1-f2805a3017ee>\u001b[0m in \u001b[0;36m<module>\u001b[0;34m\u001b[0m\n\u001b[1;32m      1\u001b[0m \u001b[0;32mfor\u001b[0m \u001b[0mi\u001b[0m \u001b[0;32min\u001b[0m \u001b[0;34m[\u001b[0m\u001b[0;36m4\u001b[0m\u001b[0;34m,\u001b[0m\u001b[0;36m3\u001b[0m\u001b[0;34m,\u001b[0m\u001b[0;36m2\u001b[0m\u001b[0;34m,\u001b[0m\u001b[0;36m0\u001b[0m\u001b[0;34m]\u001b[0m\u001b[0;34m:\u001b[0m\u001b[0;34m\u001b[0m\u001b[0;34m\u001b[0m\u001b[0m\n\u001b[0;32m----> 2\u001b[0;31m     \u001b[0mprint\u001b[0m\u001b[0;34m(\u001b[0m\u001b[0;36m5\u001b[0m\u001b[0;34m/\u001b[0m\u001b[0mi\u001b[0m\u001b[0;34m)\u001b[0m\u001b[0;34m\u001b[0m\u001b[0;34m\u001b[0m\u001b[0m\n\u001b[0m",
            "\u001b[0;31mZeroDivisionError\u001b[0m: division by zero"
          ]
        }
      ]
    },
    {
      "cell_type": "markdown",
      "metadata": {
        "id": "rI_pvA1Rlb97"
      },
      "source": [
        "## 1.5. Additional features\n",
        "\n",
        "Jupyter also supports viewing the status of the cluster and interact with the real shell environment.\n",
        "\n",
        "To do that, you can click on the Logo Jupyter in the up-left corner of each notebook to go to the dashboard:\n",
        "\n",
        "<img src=\"https://farm2.staticflickr.com/1488/24681339931_733acb3494_b.jpg\" width=\"600px\" />\n",
        "\n",
        "You can easily find out how to use these features, so you're invited to play around!!"
      ]
    },
    {
      "cell_type": "markdown",
      "metadata": {
        "id": "hp2cd1Qhlb98"
      },
      "source": [
        "# 2. Python + Pandas + Matplotlib: A great environment\n",
        "\n",
        "This section aims to help students gain a basic understanding of the python programming language and some of its libraries, including `Pandas` or `Matplotlib`. \n",
        "\n",
        "When working with a small dataset (one that can comfortably fit into a single machine), Pandas and Matplotlib, together with Python are valid alternatives to other popular tools such as R and Matlab. Using such libraries allows to inherit from the simple and clear Python syntax, achieve very good performance, enjoy superior memory management,  error handling, and good package management \\[[1](http://ajminich.com/2013/06/22/9-reasons-to-switch-from-matlab-to-python/)\\].\n",
        "\n",
        "\n",
        "## 2.1. Python syntax\n",
        "\n",
        "(This section is for students who did not program in Python before. If you're familiar with Python, please move to the next section: 1.2. Numpy)\n",
        "\n",
        "When working with Python, the code seems to be simpler than (many) other languages. In this laboratory, we compare the Python syntax to that of Java - another very common language.\n",
        "\n",
        "```java\n",
        "// java syntax\n",
        "int i = 10;\n",
        "string s = \"advanced machine learning\";\n",
        "System.out.println(i);\n",
        "System.out.println(s);\n",
        "// you must not forget the semicolon at the end of each sentence\n",
        "```"
      ]
    },
    {
      "cell_type": "code",
      "metadata": {
        "id": "XjJtdJHslb98"
      },
      "source": [
        "# python syntax\n",
        "i = 10\n",
        "s = \"advanced machine learning\"\n",
        "print(i)\n",
        "print(s)\n",
        "# forget about the obligation of commas"
      ],
      "execution_count": null,
      "outputs": []
    },
    {
      "cell_type": "markdown",
      "metadata": {
        "id": "Z487UNiNlb98"
      },
      "source": [
        "### Indentation & If-else syntax\n",
        "In python, we don't use `{` and `}` to define blocks of codes: instead, we use indentation to do that. **The code within the same block must have the same indentation**. For example, in java, we write:\n",
        "```java\n",
        "string language = \"Python\";\n",
        "\n",
        "// the block is surrounded by { and }\n",
        "// the condition is in ( and )\n",
        "if (language == \"Python\") {\n",
        "    int x = 1;\n",
        "    x += 10;\n",
        "       int y = 5; // a wrong indentation isn't problem\n",
        "    y = x + y;\n",
        "    System.out.println(x + y);\n",
        "    \n",
        "    // a statement is broken into two line\n",
        "    x = y\n",
        "        + y;\n",
        "    \n",
        "    // do some stuffs\n",
        "}\n",
        "else if (language == \"Java\") {\n",
        "    // another block\n",
        "}\n",
        "else {\n",
        "    // another block\n",
        "}\n",
        "```"
      ]
    },
    {
      "cell_type": "code",
      "metadata": {
        "id": "LkUHHcHhlb99",
        "outputId": "3c4218c8-7efa-432f-e79a-ad70e2fa2247"
      },
      "source": [
        "language = \"Python\"\n",
        "if language == \"Python\":\n",
        "    x = 10\n",
        "    x += 10\n",
        "    y = 5 # all statements in the same block must have the same indentation\n",
        "    y = (\n",
        "        x + y\n",
        "    ) # statements can be on multiple lines, using ( )\n",
        "    print (x \n",
        "           + y)\n",
        "    \n",
        "    # statements can also be split on multiple lines by using \\ at the END of each line\n",
        "    x = y \\\n",
        "        + y\n",
        "    \n",
        "    # do some other stuffs\n",
        "elif language == \"Java\":\n",
        "    # another block\n",
        "    pass\n",
        "else:\n",
        "    # another block\n",
        "    pass"
      ],
      "execution_count": null,
      "outputs": [
        {
          "output_type": "stream",
          "text": [
            "45\n"
          ],
          "name": "stdout"
        }
      ]
    },
    {
      "cell_type": "markdown",
      "metadata": {
        "id": "PtrLZcCMlb99"
      },
      "source": [
        "### Ternary conditional operator\n",
        "In python, we often see ternary conditional operator, which is used to assign a value to a variable based on some condition. For example, in java, we write:\n",
        "\n",
        "```java\n",
        "int x = 10;\n",
        "// if x > 10, assign y = 5, otherwise, y = 15\n",
        "int y = (x > 10) ? 5 : 15;\n",
        "\n",
        "int z;\n",
        "if (x > 10)\n",
        "    z = 5; // it's not necessary to have { } when the block has only one statement\n",
        "else\n",
        "    z = 15;\n",
        "```\n",
        "\n",
        "Of course, although we can easily write these lines of code in an `if else` block to get the same result, people prefer ternary conditional operator because of simplicity.\n",
        "\n",
        "In python, we write:"
      ]
    },
    {
      "cell_type": "code",
      "metadata": {
        "id": "va6YcmKXlb99",
        "outputId": "a2a0b06c-099b-4133-84a0-3b436e53557c"
      },
      "source": [
        "x = 10\n",
        "# a very natural way\n",
        "y = 5 if x > 10 else 15\n",
        "print(y)\n",
        "\n",
        "# another way\n",
        "y = x > 10 and 5 or 15\n",
        "print(y)"
      ],
      "execution_count": null,
      "outputs": [
        {
          "output_type": "stream",
          "text": [
            "15\n",
            "15\n"
          ],
          "name": "stdout"
        }
      ]
    },
    {
      "cell_type": "markdown",
      "metadata": {
        "id": "Jy9zINmPlb9-"
      },
      "source": [
        "### Lists and For loops\n",
        "Another syntax that we should revisit is the `for loop`. In java, we can write:\n",
        "\n",
        "```java\n",
        "// init an array with 10 integer numbers\n",
        "int[] array = new int[]{1, 2, 3, 4, 5, 6, 7, 8, 9, 10};\n",
        "for (int i = 0; i < array.length; i++){\n",
        "    // print the i-th element of array\n",
        "    System.out.println(array[i]);\n",
        "}\n",
        "```\n",
        "\n",
        "In Python, instead of using an index to help indicating an element, we can access the element directly:"
      ]
    },
    {
      "cell_type": "code",
      "metadata": {
        "id": "ypcUzSnnlb9-"
      },
      "source": [
        "array = [1, 2, 3, 4, 5, 6, 7, 8, 9, 10]\n",
        "# Python has no built-in array data structure\n",
        "# instead, it uses \"list\" which is much more general \n",
        "# and can be used as a multidimensional array quite easily.\n",
        "for element in array:\n",
        "    print(element)"
      ],
      "execution_count": null,
      "outputs": []
    },
    {
      "cell_type": "markdown",
      "metadata": {
        "id": "ck5q-zthlb9-"
      },
      "source": [
        "As we can see, the code is very clean. If you need the index of each element, here's what you should do:"
      ]
    },
    {
      "cell_type": "code",
      "metadata": {
        "id": "jiWRZ_3Blb9_"
      },
      "source": [
        "for (index, element) in enumerate(array):\n",
        "    print(index, element)"
      ],
      "execution_count": null,
      "outputs": []
    },
    {
      "cell_type": "markdown",
      "metadata": {
        "id": "o6XxlueGlb9_"
      },
      "source": [
        "Actually, Python has no built-in array data structure. It uses the `list` data structure, which is much more general and can be used as a multidimensional array quite easily. In addition, elements in a list can be retrieved in a very concise way. For example, we create a 2d-array with 4 rows. Each row has 3 elements."
      ]
    },
    {
      "cell_type": "code",
      "metadata": {
        "id": "7-6arTFblb9_"
      },
      "source": [
        "# 2-dimentions array with 4 rows, 3 columns\n",
        "twod_array = [[1, 2, 3], [4, 5, 6], [7, 8, 9], [10, 11, 12]]\n",
        "for index, row in enumerate(twod_array):\n",
        "    print(\"row \", index, \":\", row)\n",
        "\n",
        "# print row 1 until row 3\n",
        "print(\"row 1 until row 3: \", twod_array[1:3])\n",
        "\n",
        "# all rows from row 2\n",
        "print(\"all rows from row 2: \", twod_array[2:])\n",
        "\n",
        "# all rows until row 2\n",
        "print(\"all rows until row 2:\", twod_array[:2])\n",
        "\n",
        "# all rows from the beginning with step of 2. \n",
        "print(\"all rows from the beginning with step of 2:\", twod_array[::2])"
      ],
      "execution_count": null,
      "outputs": []
    },
    {
      "cell_type": "markdown",
      "metadata": {
        "id": "sXUAUBMklb9_"
      },
      "source": [
        "### Dictionaries\n",
        "Another useful data structure in Python is a `dictionary`, which we use to store (key, value) pairs. Here's some example usage of dictionaries:"
      ]
    },
    {
      "cell_type": "code",
      "metadata": {
        "id": "QU3dZgnAlb9_"
      },
      "source": [
        "d = {'key1': 'value1', 'key2': 'value2'}  # Create a new dictionary with some data\n",
        "print(d['key1'])       # Get an entry from a dictionary; prints \"value1\"\n",
        "print('key1' in d)     # Check if a dictionary has a given key; prints \"True\"\n",
        "d['key3'] = 'value3'    # Set an entry in a dictionary\n",
        "print(d['key3'])      # Prints \"value3\"\n",
        "# print(d['key9'])  # KeyError: 'key9' not a key of d\n",
        "print(d.get('key9', 'custom_default_value'))  # Get an element with a default; prints \"custom_default_value\"\n",
        "print(d.get('key3', 'custom_default_value'))    # Get an element with a default; prints \"value3\"\n",
        "del d['key3']        # Remove an element from a dictionary\n",
        "print(d.get('key3', 'custom_default_value')) # \"fish\" is no longer a key; prints \"custom_default_value\""
      ],
      "execution_count": null,
      "outputs": []
    },
    {
      "cell_type": "markdown",
      "metadata": {
        "id": "ebdx3Vp4lb-A"
      },
      "source": [
        "### Functions\n",
        "In Python, we can define a function by using keyword `def`."
      ]
    },
    {
      "cell_type": "code",
      "metadata": {
        "id": "O4sGGGqZlb-A"
      },
      "source": [
        "def square(x):\n",
        "    return x*x\n",
        "\n",
        "print(square(5))"
      ],
      "execution_count": null,
      "outputs": []
    },
    {
      "cell_type": "markdown",
      "metadata": {
        "id": "2kbNTGjolb-A"
      },
      "source": [
        "You can apply a function to each element of a list/array by using `lambda` function. For example, we want to square elements in a list:"
      ]
    },
    {
      "cell_type": "code",
      "metadata": {
        "id": "DwerqC9rlb-A"
      },
      "source": [
        "array = [1, 2, 3, 4, 5, 6, 7, 8, 9, 10]\n",
        "\n",
        "# apply function \"square\" on each element of \"array\"\n",
        "print(list(map(lambda x: square(x), array)))\n",
        "\n",
        "# or using a for loop, and a list comprehension\n",
        "print([square(x) for x in array])\n",
        "\n",
        "print(\"orignal array:\", array)"
      ],
      "execution_count": null,
      "outputs": []
    },
    {
      "cell_type": "markdown",
      "metadata": {
        "id": "qhelKRk_lb-A"
      },
      "source": [
        "These two above syntaxes are used very often. \n",
        "\n",
        "If you are not familiar with **list comprehensions**, follow this [link](http://python-3-patterns-idioms-test.readthedocs.io/en/latest/Comprehensions.html]).\n",
        "\n",
        "We can also put a function `B` inside a function `A` (that is, we can have nested functions). In that case, function `B` is only accessed inside function `A` (the scope that it's declared). For example:"
      ]
    },
    {
      "cell_type": "code",
      "metadata": {
        "id": "MPNn8vB9lb-A"
      },
      "source": [
        "# select only the prime number in array\n",
        "# and square them\n",
        "def filterAndSquarePrime(arr):\n",
        "    \n",
        "    # a very simple function to check a number is prime or not\n",
        "    def checkPrime(number):\n",
        "        for i in range(2, int(number/2)):\n",
        "            if number % i == 0:\n",
        "                return False\n",
        "        return True\n",
        "    \n",
        "    primeNumbers = filter(lambda x: checkPrime(x), arr)\n",
        "    return map(lambda x: square(x), primeNumbers)\n",
        "\n",
        "# we can not access checkPrime from here\n",
        "# checkPrime(5)\n",
        "\n",
        "result = filterAndSquarePrime(array)\n",
        "list(result)"
      ],
      "execution_count": null,
      "outputs": []
    },
    {
      "cell_type": "markdown",
      "metadata": {
        "id": "kbaVo3silb-A"
      },
      "source": [
        "### Importing modules, functions\n",
        "Modules in Python are packages of code. Putting code into modules helps increasing the reusability and maintainability.\n",
        "The modules can be nested.\n",
        "To import a module, we simple use syntax: `import <module_name>`. Once it is imported, we can use any functions, classes inside it."
      ]
    },
    {
      "cell_type": "code",
      "metadata": {
        "id": "UeSPQKbdlb-B"
      },
      "source": [
        "# import module 'math' to uses functions for calculating\n",
        "import math\n",
        "\n",
        "# print the square root of 16\n",
        "print(math.sqrt(16))\n",
        "\n",
        "# we can create alias when import a module\n",
        "import numpy as np\n",
        "\n",
        "print(np.sqrt(16))"
      ],
      "execution_count": null,
      "outputs": []
    },
    {
      "cell_type": "markdown",
      "metadata": {
        "id": "DHE6vzSmlb-B"
      },
      "source": [
        "Sometimes, you only need to import some functions inside a module to avoid loading the whole module into memory. To do that, we can use syntax: `from <module> import <function>`"
      ]
    },
    {
      "cell_type": "code",
      "metadata": {
        "id": "aQv3p3ynlb-B"
      },
      "source": [
        "# only import function 'sin' in package 'math'\n",
        "from math import sin\n",
        "\n",
        "# use the function\n",
        "print(sin(60))"
      ],
      "execution_count": null,
      "outputs": []
    },
    {
      "cell_type": "markdown",
      "metadata": {
        "id": "2cdDUBY5lb-B"
      },
      "source": [
        "That's quite enough for Python. Now, let's practice a little bit."
      ]
    },
    {
      "cell_type": "markdown",
      "metadata": {
        "id": "Tt-tdBNplb-B"
      },
      "source": [
        "### Question 1\n"
      ]
    },
    {
      "cell_type": "markdown",
      "metadata": {
        "id": "RCYRtHWW_bSD"
      },
      "source": [
        "#### Question 1.1\r\n",
        "<div class=\"alert alert-info\">\r\n",
        "Write a function `checkSquareNumber` to check if a integer number is a square number or not. For example, 16 and 9 are square numbers. 15 isn't square number.\r\n",
        "Requirements:\r\n",
        "\r\n",
        "- Input: an integer number\r\n",
        "\r\n",
        "- Output: `True` or `False`\r\n",
        "\r\n",
        "HINT: If the square root of a number is an integer number, it is a square number.\r\n",
        "</div>"
      ]
    },
    {
      "cell_type": "markdown",
      "metadata": {
        "id": "He1lUXRl_fdc"
      },
      "source": [
        "##### Answer"
      ]
    },
    {
      "cell_type": "code",
      "metadata": {
        "id": "vuxDA7OanWzR",
        "colab": {
          "base_uri": "https://localhost:8080/"
        },
        "outputId": "0c85acf5-0042-4b35-d8ca-da5cb87cd048"
      },
      "source": [
        "import math\r\n",
        " \r\n",
        "def checkSquareNumber(x):\r\n",
        "    return int(math.sqrt(x))**2 == x\r\n",
        "\r\n",
        "print(checkSquareNumber(16))\r\n",
        "print(checkSquareNumber(250))\r\n"
      ],
      "execution_count": null,
      "outputs": [
        {
          "output_type": "stream",
          "text": [
            "True\n",
            "False\n"
          ],
          "name": "stdout"
        }
      ]
    },
    {
      "cell_type": "markdown",
      "metadata": {
        "id": "Y3s7XTeDlb-B"
      },
      "source": [
        "```python\n",
        "import math\n",
        "\n",
        "def checkSquareNumber(x):\n",
        "    return int(math.sqrt(x))**2 == x\n",
        "\n",
        "print(checkSquareNumber(16))\n",
        "print(checkSquareNumber(250))\n",
        "```"
      ]
    },
    {
      "cell_type": "markdown",
      "metadata": {
        "id": "A_-lbD6blb-B"
      },
      "source": [
        "#### Question 1.2\n",
        "<div class=\"alert alert-info\">\n",
        "A list `list_numbers` which contains the numbers from 1 to 9999 can be constructed from: \n",
        "\n",
        "```python\n",
        "list_numbers = range(0, 10000)\n",
        "```\n",
        "\n",
        "Extract the square numbers in `list_numbers` using function `checkSquareNumber` from question 1.1. How many elements in the extracted list ?\n",
        "</div>"
      ]
    },
    {
      "cell_type": "markdown",
      "metadata": {
        "id": "Tonat0tClb-B"
      },
      "source": [
        "```python\n",
        "list_numbers = ...\n",
        "square_numbers = # try to use the filter method\n",
        "print(square_numbers)\n",
        "print(len(square_numbers))\n",
        "```"
      ]
    },
    {
      "cell_type": "markdown",
      "metadata": {
        "id": "jE1FOv2e_NQr"
      },
      "source": [
        "##### Answer"
      ]
    },
    {
      "cell_type": "code",
      "metadata": {
        "id": "Kpi_TRYOtEfn",
        "colab": {
          "base_uri": "https://localhost:8080/"
        },
        "outputId": "02f47caf-da00-4eee-ad4f-fdbd3cd03253"
      },
      "source": [
        "list_numbers = range(0, 1000)\r\n",
        "square_numbers = [a for a in list_numbers if checkSquareNumber(a)]\r\n",
        "print(square_numbers)\r\n",
        "print(len(square_numbers))\r\n"
      ],
      "execution_count": null,
      "outputs": [
        {
          "output_type": "stream",
          "text": [
            "[0, 1, 4, 9, 16, 25, 36, 49, 64, 81, 100, 121, 144, 169, 196, 225, 256, 289, 324, 361, 400, 441, 484, 529, 576, 625, 676, 729, 784, 841, 900, 961]\n",
            "32\n"
          ],
          "name": "stdout"
        }
      ]
    },
    {
      "cell_type": "markdown",
      "metadata": {
        "id": "iVBUytn4lb-C"
      },
      "source": [
        "#### Question 1.3\n",
        "<div class=\"alert alert-info\">\n",
        "Using array slicing, select the elements of the list square_numbers, whose index is from 5 to 20 (zero-based index).\n",
        "</div>"
      ]
    },
    {
      "cell_type": "markdown",
      "metadata": {
        "id": "z5thB_Xplb-C"
      },
      "source": [
        "```python\n",
        "print(square_numbers[...])\n",
        "```"
      ]
    },
    {
      "cell_type": "markdown",
      "metadata": {
        "id": "LXhRIdy0_mai"
      },
      "source": [
        "##### Answer"
      ]
    },
    {
      "cell_type": "code",
      "metadata": {
        "id": "naAgRWcS6jE_",
        "colab": {
          "base_uri": "https://localhost:8080/"
        },
        "outputId": "f521dd5e-a359-4d8e-b8bd-fc5657b8249e"
      },
      "source": [
        "list_numbers = range(0, 1000)\r\n",
        "square_numbers = [a for a in list_numbers if checkSquareNumber(a)]\r\n",
        "print(square_numbers[5:21])"
      ],
      "execution_count": null,
      "outputs": [
        {
          "output_type": "stream",
          "text": [
            "[25, 36, 49, 64, 81, 100, 121, 144, 169, 196, 225, 256, 289, 324, 361, 400]\n"
          ],
          "name": "stdout"
        }
      ]
    },
    {
      "cell_type": "markdown",
      "metadata": {
        "id": "Qv60fVLMlb-C"
      },
      "source": [
        "Next, we will take a quick look on Numpy - a powerful module of Python."
      ]
    },
    {
      "cell_type": "markdown",
      "metadata": {
        "id": "h6BpRHm5lb-C"
      },
      "source": [
        "## 2.2. Numpy\n",
        "Numpy is the core library for scientific computing in Python. It provides a high-performance multidimensional array object, and tools for working with these arrays.\n",
        "### 2.2.1. Array\n",
        "A numpy array is a grid of values, all of **the same type**, and is indexed by a tuple of nonnegative integers. Thanks to the same type property, Numpy has the benefits of [locality of reference](https://en.wikipedia.org/wiki/Locality_of_reference). Besides, many other Numpy operations are implemented in C, avoiding the general cost of loops in Python, pointer indirection and per-element dynamic type checking. So, the speed of Numpy is often faster than using built-in datastructure of Python. When working with massive data with computationally expensive tasks, you should consider to use Numpy. \n",
        "\n",
        "The number of dimensions is the `rank` of the array; the `shape` of an array is a tuple of integers giving the size of the array along each dimension.\n",
        "\n",
        "We can initialize numpy arrays from nested Python lists, and access elements using square brackets:"
      ]
    },
    {
      "cell_type": "code",
      "metadata": {
        "id": "ReO7vRVUlb-C",
        "colab": {
          "base_uri": "https://localhost:8080/"
        },
        "outputId": "b47cbe26-dc80-4fc7-f471-b9b857d1cf57"
      },
      "source": [
        "import numpy as np\n",
        "\n",
        "# Create a rank 1 array\n",
        "rank1_array = np.array([1, 2, 3])\n",
        "print(\"type of rank1_array:\", type(rank1_array))\n",
        "print(\"shape of rank1_array:\", rank1_array.shape)\n",
        "print(\"elements in rank1_array:\", rank1_array[0], rank1_array[1], rank1_array[2])\n",
        "\n",
        "# Create a rank 2 array\n",
        "rank2_array = np.array([[1,2,3],[4,5,6]])\n",
        "print(\"shape of rank2_array:\", rank2_array.shape)\n",
        "print(rank2_array[0, 0], rank2_array[0, 1], rank2_array[1, 0])"
      ],
      "execution_count": null,
      "outputs": [
        {
          "output_type": "stream",
          "text": [
            "type of rank1_array: <class 'numpy.ndarray'>\n",
            "shape of rank1_array: (3,)\n",
            "elements in rank1_array: 1 2 3\n",
            "shape of rank2_array: (2, 3)\n",
            "1 2 4\n"
          ],
          "name": "stdout"
        }
      ]
    },
    {
      "cell_type": "markdown",
      "metadata": {
        "id": "0dOPXq7alb-C"
      },
      "source": [
        "### 2.2.2. Array slicing\n",
        "Similar to Python lists, numpy arrays can be sliced. The different thing is that you must specify a slice for each dimension of the array because arrays may be multidimensional."
      ]
    },
    {
      "cell_type": "code",
      "metadata": {
        "id": "d71j4ZgVlb-E"
      },
      "source": [
        "m_array = np.array([[1,2,3,4], [5,6,7,8], [9,10,11,12]])\n",
        "\n",
        "# Use slicing to pull out the subarray consisting of the first 2 rows\n",
        "# and columns 1 and 2\n",
        "b = m_array[:2, 1:3]\n",
        "print(b)\n",
        "\n",
        "# we can only use this syntax with numpy array, not python list\n",
        "print(\"value at row 0, column 1:\", m_array[0, 1])\n",
        "\n",
        "# Rank 1 view of the second row of m_array  \n",
        "print(\"the second row of m_array:\", m_array[1, :])\n",
        "\n",
        "# print element at position (0,2) and (1,3)\n",
        "print(m_array[[0,1], [2,3]])"
      ],
      "execution_count": null,
      "outputs": []
    },
    {
      "cell_type": "markdown",
      "metadata": {
        "id": "9Mkcyeg2lb-E"
      },
      "source": [
        "### 2.2.3. Boolean array indexing\n",
        "We can use boolean array indexing to check whether each element in the array satisfies a condition or use it to do filtering."
      ]
    },
    {
      "cell_type": "code",
      "metadata": {
        "id": "qFloN0mZlb-F"
      },
      "source": [
        "m_array = np.array([[1,2,3,4], [5,6,7,8], [9,10,11,12]])\n",
        "\n",
        "# Find the elements of a that are bigger than 2\n",
        "# this returns a numpy array of Booleans of the same\n",
        "# shape as m_array, where each value of bool_idx tells\n",
        "# whether that element of a is > 3 or not\n",
        "bool_idx = (m_array > 3)\n",
        "print(bool_idx , \"\\n\")\n",
        "\n",
        "# We use boolean array indexing to construct a rank 1 array\n",
        "# consisting of the elements of a corresponding to the True values\n",
        "# of bool_idx\n",
        "print(m_array[bool_idx], \"\\n\")\n",
        "\n",
        "# We can combine two statements\n",
        "print(m_array[m_array > 3], \"\\n\")\n",
        "\n",
        "# select elements with multiple conditions\n",
        "print(m_array[(m_array > 3) & (m_array % 2 == 0)])\n"
      ],
      "execution_count": null,
      "outputs": []
    },
    {
      "cell_type": "markdown",
      "metadata": {
        "id": "86_ed-JXlb-F"
      },
      "source": [
        "### 2.2.4. Datatypes\n",
        "Remember that the elements in a numpy array have the same type. When constructing arrays, Numpy tries to guess a datatype when you create an array However, we can specify the datatype explicitly via an optional argument."
      ]
    },
    {
      "cell_type": "code",
      "metadata": {
        "id": "uVK81t_8lb-F"
      },
      "source": [
        "# let Numpy guess the datatype\n",
        "x1 = np.array([1, 2])\n",
        "print(x1.dtype)\n",
        "\n",
        "# force the datatype be float64\n",
        "x2 = np.array([1, 2], dtype=np.float64)\n",
        "print(x2.dtype)"
      ],
      "execution_count": null,
      "outputs": []
    },
    {
      "cell_type": "markdown",
      "metadata": {
        "id": "7UxYlF4Ulb-F"
      },
      "source": [
        "### 2.2.5. Array math\n",
        "Similar to Matlab or R, in Numpy, basic mathematical functions operate elementwise on arrays, and are available both as operator overloads and as functions in the numpy module."
      ]
    },
    {
      "cell_type": "code",
      "metadata": {
        "id": "LmkrPMp5lb-F"
      },
      "source": [
        "x = np.array([[1,2],[3,4]], dtype=np.float64)\n",
        "y = np.array([[5,6],[7,8]], dtype=np.float64)\n",
        "# mathematical function is used as operator\n",
        "print(\"x + y =\", x + y, \"\\n\")\n",
        "\n",
        "# mathematical function is used as function\n",
        "print(\"np.add(x, y)=\", np.add(x, y), \"\\n\")\n",
        "\n",
        "# Unlike MATLAB, * is elementwise multiplication\n",
        "# not matrix multiplication\n",
        "print(\"x * y =\", x * y , \"\\n\")\n",
        "print(\"np.multiply(x, y)=\", np.multiply(x, y), \"\\n\")\n",
        "print(\"x*2=\", x*2, \"\\n\")\n",
        "\n",
        "# to multiply two matrices, we use dot function\n",
        "print(\"x.dot(y)=\", x.dot(y), \"\\n\")\n",
        "print(\"np.dot(x, y)=\", np.dot(x, y), \"\\n\")\n",
        "\n",
        "# Elementwise square root\n",
        "print(\"np.sqrt(x)=\", np.sqrt(x), \"\\n\")"
      ],
      "execution_count": null,
      "outputs": []
    },
    {
      "cell_type": "markdown",
      "metadata": {
        "id": "nwo8RXrQlb-F"
      },
      "source": [
        "Note that unlike MATLAB, `*` is elementwise multiplication, not matrix multiplication. We instead use the `dot` function to compute inner products of vectors, to multiply a vector by a matrix, and to multiply matrices. In what follows, we work on a few more examples to reiterate the concept."
      ]
    },
    {
      "cell_type": "code",
      "metadata": {
        "id": "8_MJmhnflb-F"
      },
      "source": [
        "# declare two vectors\n",
        "v = np.array([9,10])\n",
        "w = np.array([11, 12])\n",
        "\n",
        "# Inner product of vectors\n",
        "print(\"v.dot(w)=\", v.dot(w))\n",
        "print(\"np.dot(v, w)=\", np.dot(v, w))\n",
        "\n",
        "# Matrix / vector product\n",
        "print(\"x.dot(v)=\", x.dot(v))\n",
        "print(\"np.dot(x, v)=\", np.dot(x, v))\n",
        "\n",
        "# Matrix / matrix product\n",
        "print(\"x.dot(y)=\", x.dot(y))\n",
        "print(\"np.dot(x, y)=\", np.dot(x, y))"
      ],
      "execution_count": null,
      "outputs": []
    },
    {
      "cell_type": "markdown",
      "metadata": {
        "id": "liwBquvGlb-G"
      },
      "source": [
        "Additionally, we can do other aggregation computations on arrays such as `sum`, `nansum`, or `T`."
      ]
    },
    {
      "cell_type": "code",
      "metadata": {
        "id": "pppOnEZklb-G"
      },
      "source": [
        "x = np.array([[1,2], [3,4]])\n",
        "\n",
        "# Compute sum of all elements\n",
        "print(np.sum(x))\n",
        "\n",
        "# Compute sum of each column\n",
        "print(np.sum(x, axis=0))\n",
        "\n",
        "# Compute sum of each row\n",
        "print(np.sum(x, axis=1))\n",
        "\n",
        "# transpose the matrix\n",
        "print(x.T)\n",
        "\n",
        "# Note that taking the transpose of a rank 1 array does nothing:\n",
        "v = np.array([1,2,3])\n",
        "print(v.T)  # Prints \"[1 2 3]\""
      ],
      "execution_count": null,
      "outputs": []
    },
    {
      "cell_type": "markdown",
      "metadata": {
        "id": "aHD4EirFlb-G"
      },
      "source": [
        "### Question 2\n",
        "\n",
        "Given a 2D array:\n",
        "\n",
        "```\n",
        " 1  2  3  4\n",
        " 5  6  7  8 \n",
        " 9 10 11 12\n",
        "13 14 15 16\n",
        "```"
      ]
    },
    {
      "cell_type": "markdown",
      "metadata": {
        "id": "lxDCYZKE-Fj9"
      },
      "source": [
        "\r\n",
        "#### Question 2.1\r\n",
        "<div class=\"alert alert-info\">\r\n",
        "Print the all odd numbers in this array using `Boolean array indexing`.\r\n",
        "</div>"
      ]
    },
    {
      "cell_type": "markdown",
      "metadata": {
        "id": "y2EDrSA9lb-G"
      },
      "source": [
        "```python\n",
        "array_numbers = np.array([\n",
        "        [1, 2, 3, 4],\n",
        "        [5, 6, 7, 8],\n",
        "        [9, 10, 11, 12],\n",
        "        [13, 14, 15, 16]\n",
        "    ])\n",
        "\n",
        "print(...)\n",
        "```"
      ]
    },
    {
      "cell_type": "markdown",
      "metadata": {
        "id": "_0o38eTO-LG2"
      },
      "source": [
        "##### Answer"
      ]
    },
    {
      "cell_type": "code",
      "metadata": {
        "id": "Mp--JoCe-TAs",
        "colab": {
          "base_uri": "https://localhost:8080/"
        },
        "outputId": "a8436215-b5ab-4963-da9e-fa9e828e7bbb"
      },
      "source": [
        "import numpy as np\r\n",
        "\r\n",
        "array_numbers = np.array([\r\n",
        "        [1, 2, 3, 4],\r\n",
        "        [5, 6, 7, 8],\r\n",
        "        [9, 10, 11, 12],\r\n",
        "        [13, 14, 15, 16]\r\n",
        "    ])\r\n",
        " \r\n",
        "print(array_numbers[array_numbers % 2 != 0])"
      ],
      "execution_count": 4,
      "outputs": [
        {
          "output_type": "stream",
          "text": [
            "[ 1  3  5  7  9 11 13 15]\n"
          ],
          "name": "stdout"
        }
      ]
    },
    {
      "cell_type": "markdown",
      "metadata": {
        "id": "uTvzKbBPlb-G"
      },
      "source": [
        "#### Question 2.2\n",
        "<div class=\"alert alert-info\">\n",
        "Extract the second row and the third column in this array using `array slicing`.\n",
        "</div>"
      ]
    },
    {
      "cell_type": "markdown",
      "metadata": {
        "id": "ex9XD70Vlb-G"
      },
      "source": [
        "```python\n",
        "print(array_numbers[...])\n",
        "print(array_numbers[...])\n",
        "```"
      ]
    },
    {
      "cell_type": "markdown",
      "metadata": {
        "id": "hEecX7NP_vIS"
      },
      "source": [
        "##### Answer"
      ]
    },
    {
      "cell_type": "code",
      "metadata": {
        "id": "Butk1a_r_ydy",
        "colab": {
          "base_uri": "https://localhost:8080/"
        },
        "outputId": "ee46c130-e5f6-4180-e11f-8201fa6611e0"
      },
      "source": [
        "print(array_numbers[1,:])\r\n",
        "print(array_numbers[2,:])"
      ],
      "execution_count": 5,
      "outputs": [
        {
          "output_type": "stream",
          "text": [
            "[5 6 7 8]\n",
            "[ 9 10 11 12]\n"
          ],
          "name": "stdout"
        }
      ]
    },
    {
      "cell_type": "markdown",
      "metadata": {
        "id": "CLPBMFCGlb-H"
      },
      "source": [
        "#### Question 2.3\n",
        "<div class=\"alert alert-info\">\n",
        "Calculate the sum of diagonal elements.\n",
        "</div>"
      ]
    },
    {
      "cell_type": "markdown",
      "metadata": {
        "id": "W4H-_59ilb-H"
      },
      "source": [
        "```python\n",
        "sum = 0\n",
        "for i in range(0, ...):\n",
        "    sum += array_numbers...\n",
        "    \n",
        "print(sum)\n",
        "```"
      ]
    },
    {
      "cell_type": "markdown",
      "metadata": {
        "id": "Wpof0ygCAVSr"
      },
      "source": [
        "##### Answer"
      ]
    },
    {
      "cell_type": "code",
      "metadata": {
        "id": "gmxZ2iW3AW-f",
        "colab": {
          "base_uri": "https://localhost:8080/"
        },
        "outputId": "a25ae779-3440-42c4-8271-3b81bc2e0e42"
      },
      "source": [
        "sum = 0\r\n",
        "for i in range(0, array_numbers.shape[0]):\r\n",
        "    sum += array_numbers[i,i]\r\n",
        "    pass\r\n",
        " \r\n",
        "print(sum)"
      ],
      "execution_count": 6,
      "outputs": [
        {
          "output_type": "stream",
          "text": [
            "34\n"
          ],
          "name": "stdout"
        }
      ]
    },
    {
      "cell_type": "markdown",
      "metadata": {
        "id": "IjlSFolulb-H"
      },
      "source": [
        "#### Question 2.4\n",
        "<div class=\"alert alert-info\">\n",
        "Print elementwise multiplication of the first row and the last row using numpy's functions.\n",
        "\n",
        "Print the inner product of these two rows.\n",
        "</div>"
      ]
    },
    {
      "cell_type": "markdown",
      "metadata": {
        "id": "6IYyTjxhlb-H"
      },
      "source": [
        "```python\n",
        "print(...)\n",
        "print(...)\n",
        "```"
      ]
    },
    {
      "cell_type": "markdown",
      "metadata": {
        "id": "V5aO5X5yCjvS"
      },
      "source": [
        "##### Answer"
      ]
    },
    {
      "cell_type": "code",
      "metadata": {
        "id": "vSOMbiuzC8Q_",
        "colab": {
          "base_uri": "https://localhost:8080/"
        },
        "outputId": "b98ba9b1-56b0-46b5-908a-948354685da2"
      },
      "source": [
        "print(array_numbers[0,:] * array_numbers[-1,:])\r\n",
        "print(array_numbers[0,:].dot(array_numbers[-1,:]))"
      ],
      "execution_count": null,
      "outputs": [
        {
          "output_type": "stream",
          "text": [
            "[13 28 45 64]\n",
            "150\n"
          ],
          "name": "stdout"
        }
      ]
    },
    {
      "cell_type": "markdown",
      "metadata": {
        "id": "4fHCR5hDlb-H"
      },
      "source": [
        "## 2.3. Matplotlib\n",
        "\n",
        "As its name indicates, Matplotlib is a plotting library. It provides both a very quick way to visualize data from Python and publication-quality figures in many formats. The most important function in matplotlib is `plot`, which allows you to plot 2D data."
      ]
    },
    {
      "cell_type": "code",
      "metadata": {
        "id": "F6p7j0etlb-H",
        "colab": {
          "base_uri": "https://localhost:8080/",
          "height": 265
        },
        "outputId": "5fdf7bca-db79-49ed-d89f-ce7891c12c25"
      },
      "source": [
        "%matplotlib inline\n",
        "import matplotlib.pyplot as plt\n",
        "plt.plot([1,2,3,4])\n",
        "plt.ylabel('custom y label')\n",
        "plt.show()"
      ],
      "execution_count": null,
      "outputs": [
        {
          "output_type": "display_data",
          "data": {
            "image/png": "[encoded data removed]",
            "text/plain": [
              "<Figure size 432x288 with 1 Axes>"
            ]
          },
          "metadata": {
            "tags": [],
            "needs_background": "light"
          }
        }
      ]
    },
    {
      "cell_type": "markdown",
      "metadata": {
        "id": "Msd1vuS9lb-H"
      },
      "source": [
        "In this case, we provide a single list or array to the `plot()` command, matplotlib assumes it is a sequence of y values, and automatically generates the x values for us. Since python ranges start with 0, the default x vector has the same length as y but starts with 0. Hence the x data are [0,1,2,3].\n",
        "\n",
        "In the next example, we plot figure with both x and y data. Besides, we want to draw dashed lines instead of the solid in default."
      ]
    },
    {
      "cell_type": "code",
      "metadata": {
        "id": "tPmIpjCelb-H",
        "colab": {
          "base_uri": "https://localhost:8080/",
          "height": 513
        },
        "outputId": "3ad03714-1365-4f11-e21f-3b470378401d"
      },
      "source": [
        "plt.plot([1, 2, 3, 4], [1, 4, 9, 16], 'r--')\n",
        "plt.show()\n",
        "\n",
        "plt.bar([1, 2, 3, 4], [1, 4, 9, 16], align='center')\n",
        "# labels of each column bar\n",
        "x_labels = [\"Type 1\", \"Type 2\", \"Type 3\", \"Type 4\"]\n",
        "# assign labels to the plot\n",
        "plt.xticks([1, 2, 3, 4], x_labels)\n",
        "\n",
        "plt.show()"
      ],
      "execution_count": null,
      "outputs": [
        {
          "output_type": "display_data",
          "data": {
            "image/png": "[encoded data removed]",
            "text/plain": [
              "<Figure size 432x288 with 1 Axes>"
            ]
          },
          "metadata": {
            "tags": [],
            "needs_background": "light"
          }
        },
        {
          "output_type": "display_data",
          "data": {
            "image/png": "[encoded data removed]",
            "text/plain": [
              "<Figure size 432x288 with 1 Axes>"
            ]
          },
          "metadata": {
            "tags": [],
            "needs_background": "light"
          }
        }
      ]
    },
    {
      "cell_type": "markdown",
      "metadata": {
        "id": "T48IaB_clb-H"
      },
      "source": [
        "If we want to merge two figures into a single one, subplot is the best way to do that. For example, we want to put two figures in a stack vertically, we should define a grid of plots with 2 rows and 1 column. Then, in each row, a single figure is plotted."
      ]
    },
    {
      "cell_type": "code",
      "metadata": {
        "id": "yO8F_bVClb-I",
        "colab": {
          "base_uri": "https://localhost:8080/",
          "height": 265
        },
        "outputId": "e2642c4b-616b-4241-9a06-304cad146a8a"
      },
      "source": [
        "# Set up a subplot grid that has height 2 and width 1,\n",
        "# and set the first such subplot as active.\n",
        "plt.subplot(2, 1, 1)\n",
        "plt.plot([1, 2, 3, 4], [1, 4, 9, 16], 'r--')\n",
        "\n",
        "# Set the second subplot as active, and make the second plot.\n",
        "plt.subplot(2, 1, 2)\n",
        "plt.bar([1, 2, 3, 4], [1, 4, 9, 16])\n",
        "\n",
        "plt.show()"
      ],
      "execution_count": null,
      "outputs": [
        {
          "output_type": "display_data",
          "data": {
            "image/png": "[encoded data removed]",
            "text/plain": [
              "<Figure size 432x288 with 2 Axes>"
            ]
          },
          "metadata": {
            "tags": [],
            "needs_background": "light"
          }
        }
      ]
    },
    {
      "cell_type": "markdown",
      "metadata": {
        "id": "eMxCudLxlb-I"
      },
      "source": [
        "For more examples, please visit the [homepage](http://matplotlib.org/1.5.1/examples/index.html) of Matplotlib."
      ]
    },
    {
      "cell_type": "markdown",
      "metadata": {
        "id": "36fPkwZwlb-I"
      },
      "source": [
        "###  Question 3\n",
        "Given a list of numbers from 0 to 9999."
      ]
    },
    {
      "cell_type": "markdown",
      "metadata": {
        "id": "i9XA5ZO-IRUT"
      },
      "source": [
        "\r\n",
        "#### Question 3.1\r\n",
        "<div class=\"alert alert-info\">\r\n",
        "Calculate the histogram of numbers divisible by 3, 7, 11 in the list respectively.\r\n",
        "\r\n",
        "( Or in other words, how many numbers divisible by 3, 7, 11 in the list respectively ?)\r\n",
        "</div>"
      ]
    },
    {
      "cell_type": "markdown",
      "metadata": {
        "id": "2WhwGjoolb-I"
      },
      "source": [
        "```python\n",
        "arr = np.array(...)\n",
        "divisors = [3, 7, 11]\n",
        "histogram = list(...)\n",
        "print(histogram)\n",
        "```"
      ]
    },
    {
      "cell_type": "markdown",
      "metadata": {
        "id": "T8EiEUXAITAi"
      },
      "source": [
        "##### Answer"
      ]
    },
    {
      "cell_type": "code",
      "metadata": {
        "id": "aaEcir03IWE6",
        "colab": {
          "base_uri": "https://localhost:8080/"
        },
        "outputId": "71163905-c708-47d6-d755-d20f65ad7273"
      },
      "source": [
        "arr = np.array(range(0, 10000))\r\n",
        "divisors = [3, 7, 11]\r\n",
        "histogram = list(np.sum(arr % d == 0) for d in divisors)\r\n",
        "print(histogram)"
      ],
      "execution_count": 7,
      "outputs": [
        {
          "output_type": "stream",
          "text": [
            "[3334, 1429, 910]\n"
          ],
          "name": "stdout"
        }
      ]
    },
    {
      "cell_type": "markdown",
      "metadata": {
        "id": "GLDg6S_mlb-I"
      },
      "source": [
        "#### Question 3.2\n",
        "<div class=\"alert alert-info\">\n",
        "Plot the histogram in a line chart.\n",
        "</div>"
      ]
    },
    {
      "cell_type": "markdown",
      "metadata": {
        "id": "W9UID9rilb-I"
      },
      "source": [
        "```python\n",
        "%matplotlib inline\n",
        "import matplotlib.pyplot as plt\n",
        "\n",
        "# simple line chart\n",
        "plt.plot(histogram)\n",
        "x_indexes = ...\n",
        "x_names = list(...)\n",
        "plt.xticks(x_indexes, x_names)\n",
        "plt.show()\n",
        "```"
      ]
    },
    {
      "cell_type": "markdown",
      "metadata": {
        "id": "UD6vJFLrGAut"
      },
      "source": [
        "##### Answer"
      ]
    },
    {
      "cell_type": "code",
      "metadata": {
        "id": "OC18kgmsGD7N",
        "colab": {
          "base_uri": "https://localhost:8080/",
          "height": 265
        },
        "outputId": "203a57a5-d181-42d3-9b0c-20afe7355c14"
      },
      "source": [
        "%matplotlib inline\r\n",
        "import matplotlib.pyplot as plt\r\n",
        " \r\n",
        "# simple line chart\r\n",
        "plt.plot(histogram)\r\n",
        "x_indexes = range(0,3)\r\n",
        "x_names = list('Divisible by {}'.format(a) for a in divisors)\r\n",
        "plt.xticks(x_indexes, x_names)\r\n",
        "plt.show()"
      ],
      "execution_count": 12,
      "outputs": [
        {
          "output_type": "display_data",
          "data": {
            "image/png": "[encoded data removed]",
            "text/plain": [
              "<Figure size 432x288 with 1 Axes>"
            ]
          },
          "metadata": {
            "tags": [],
            "needs_background": "light"
          }
        }
      ]
    },
    {
      "cell_type": "markdown",
      "metadata": {
        "id": "xmPe6Bytlb-I"
      },
      "source": [
        "#### Question 3.3\n",
        "<div class=\"alert alert-info\">\n",
        "Plot the histogram in a bar chart.\n",
        "</div>"
      ]
    },
    {
      "cell_type": "markdown",
      "metadata": {
        "id": "kK4mW3qClb-J"
      },
      "source": [
        "```python\n",
        "# char chart with x-lables\n",
        "x_indexes = range(...)\n",
        "x_names = list(...)\n",
        "plt.bar( x_indexes, histogram, align='center')\n",
        "plt.xticks(x_indexes, x_names)\n",
        "plt.show()\n",
        "```"
      ]
    },
    {
      "cell_type": "markdown",
      "metadata": {
        "id": "tNJouzqLDiqE"
      },
      "source": [
        "##### Answer"
      ]
    },
    {
      "cell_type": "code",
      "metadata": {
        "colab": {
          "base_uri": "https://localhost:8080/",
          "height": 269
        },
        "id": "iydgsvwDDlHn",
        "outputId": "52f81799-5e9c-4044-f3b3-38e69b2f1331"
      },
      "source": [
        "# char chart with x-lables\r\n",
        "x_indexes = range(0, 3)\r\n",
        "x_names = list('Divisible by {}'.format(a) for a in divisors)\r\n",
        "plt.bar( x_indexes, histogram, align='center')\r\n",
        "plt.xticks(x_indexes, x_names)\r\n",
        "plt.show()"
      ],
      "execution_count": 13,
      "outputs": [
        {
          "output_type": "display_data",
          "data": {
            "image/png": "[encoded data removed]",
            "text/plain": [
              "<Figure size 432x288 with 1 Axes>"
            ]
          },
          "metadata": {
            "tags": [],
            "needs_background": "light"
          }
        }
      ]
    },
    {
      "cell_type": "markdown",
      "metadata": {
        "id": "lh-MLPZulb-J"
      },
      "source": [
        "## 2.4. Pandas\n",
        "\n",
        "Pandas is an open source library providing high-performance, easy-to-use data structures and data analysis tools for the Python programming language. Indeed, it is great for data manipulation, data analysis, and data visualization.\n",
        "\n",
        "### 2.4.1. Data structures\n",
        "Pandas introduces two useful (and powerful) structures: `Series` and `DataFrame`, both of which are built on top of NumPy.\n",
        "\n",
        "#### Series\n",
        "A `Series` is a one-dimensional object similar to an array, list, or even column in a table. It assigns a *labeled index* to each item in the Series. By default, each item will receive an index label from `0` to `N-1`, where `N` is the number items of `Series`.\n",
        "\n",
        "We can create a Series by passing a list of values, and let pandas create a default integer index.\n"
      ]
    },
    {
      "cell_type": "code",
      "metadata": {
        "id": "IzYcwQR8lb-J",
        "colab": {
          "base_uri": "https://localhost:8080/"
        },
        "outputId": "4b730762-0c1c-4e28-e7e0-e7ce381a10f3"
      },
      "source": [
        "import pandas as pd\n",
        "import numpy as np\n",
        "\n",
        "# create a Series with an arbitrary list\n",
        "s = pd.Series([3, 'Machine learning', 1.414259, -65545, 'Happy coding!'])\n",
        "print(s)"
      ],
      "execution_count": 15,
      "outputs": [
        {
          "output_type": "stream",
          "text": [
            "0                   3\n",
            "1    Machine learning\n",
            "2             1.41426\n",
            "3              -65545\n",
            "4       Happy coding!\n",
            "dtype: object\n"
          ],
          "name": "stdout"
        }
      ]
    },
    {
      "cell_type": "markdown",
      "metadata": {
        "id": "t35m9qR8lb-J"
      },
      "source": [
        "Or, an index can be used explicitly when creating the `Series`."
      ]
    },
    {
      "cell_type": "code",
      "metadata": {
        "id": "dEW_yTnBlb-J",
        "colab": {
          "base_uri": "https://localhost:8080/"
        },
        "outputId": "65aca686-ef84-45cb-9980-59cf6ba5370d"
      },
      "source": [
        "s = pd.Series([3, 'Machine learning', 1.414259, -65545, 'Happy coding!'],\n",
        "             index=['Col1', 'Col2', 'Col3', 4.1, 5])\n",
        "print(s)"
      ],
      "execution_count": 16,
      "outputs": [
        {
          "output_type": "stream",
          "text": [
            "Col1                   3\n",
            "Col2    Machine learning\n",
            "Col3             1.41426\n",
            "4.1               -65545\n",
            "5          Happy coding!\n",
            "dtype: object\n"
          ],
          "name": "stdout"
        }
      ]
    },
    {
      "cell_type": "markdown",
      "metadata": {
        "id": "_FIMHI4Clb-J"
      },
      "source": [
        "A `Series` can be constructed from a dictionary too."
      ]
    },
    {
      "cell_type": "code",
      "metadata": {
        "id": "R_Zh99bHlb-J",
        "colab": {
          "base_uri": "https://localhost:8080/"
        },
        "outputId": "dc40043f-be4b-41ec-9ea3-c83e204a563d"
      },
      "source": [
        "s = pd.Series({\n",
        "        'Col1': 3, 'Col2': 'Machine learning', \n",
        "        'Col3': 1.414259, 4.1: -65545, \n",
        "        5: 'Happy coding!'\n",
        "    })\n",
        "print(s)"
      ],
      "execution_count": 17,
      "outputs": [
        {
          "output_type": "stream",
          "text": [
            "Col1                   3\n",
            "Col2    Machine learning\n",
            "Col3             1.41426\n",
            "4.1               -65545\n",
            "5          Happy coding!\n",
            "dtype: object\n"
          ],
          "name": "stdout"
        }
      ]
    },
    {
      "cell_type": "markdown",
      "metadata": {
        "id": "09ktsuvZlb-J"
      },
      "source": [
        "We can access items in a `Series` in a same way as `Numpy`."
      ]
    },
    {
      "cell_type": "code",
      "metadata": {
        "id": "X1u-Bdeulb-K",
        "colab": {
          "base_uri": "https://localhost:8080/",
          "height": 421
        },
        "outputId": "4736f833-19bf-4583-ee3a-6d20bffd0e9e"
      },
      "source": [
        "s = pd.Series({\n",
        "        'Col1': 3, 'Col2': -10, \n",
        "        'Col3': 1.414259, \n",
        "        4.1: -65545, \n",
        "        5: 8\n",
        "    })\n",
        "\n",
        "# get element which has index='Col1'\n",
        "print(\"s['Col1']=\", s['Col1'], \"\\n\")\n",
        "\n",
        "# get elements whose index is in a given list\n",
        "print(\"s[['Col1', 'Col3', 4.5]]=\", s[['Col1', 'Col3', 4.5]], \"\\n\")\n",
        "\n",
        "# use boolean indexing for selection\n",
        "print(s[s > 0], \"\\n\")\n",
        "\n",
        "# modify elements on the fly using boolean indexing\n",
        "s[s > 0] = 15\n",
        "\n",
        "print(s, \"\\n\")\n",
        "\n",
        "# mathematical operations can be done using operators and functions.\n",
        "print(s*10,  \"\\n\")\n",
        "print(np.square(s), \"\\n\")"
      ],
      "execution_count": 18,
      "outputs": [
        {
          "output_type": "stream",
          "text": [
            "s['Col1']= 3.0 \n",
            "\n"
          ],
          "name": "stdout"
        },
        {
          "output_type": "error",
          "ename": "KeyError",
          "evalue": "ignored",
          "traceback": [
            "\u001b[0;31m---------------------------------------------------------------------------\u001b[0m",
            "\u001b[0;31mKeyError\u001b[0m                                  Traceback (most recent call last)",
            "\u001b[0;32m<ipython-input-18-9e6edb89443b>\u001b[0m in \u001b[0;36m<module>\u001b[0;34m()\u001b[0m\n\u001b[1;32m     10\u001b[0m \u001b[0;34m\u001b[0m\u001b[0m\n\u001b[1;32m     11\u001b[0m \u001b[0;31m# get elements whose index is in a given list\u001b[0m\u001b[0;34m\u001b[0m\u001b[0;34m\u001b[0m\u001b[0;34m\u001b[0m\u001b[0m\n\u001b[0;32m---> 12\u001b[0;31m \u001b[0mprint\u001b[0m\u001b[0;34m(\u001b[0m\u001b[0;34m\"s[['Col1', 'Col3', 4.5]]=\"\u001b[0m\u001b[0;34m,\u001b[0m \u001b[0ms\u001b[0m\u001b[0;34m[\u001b[0m\u001b[0;34m[\u001b[0m\u001b[0;34m'Col1'\u001b[0m\u001b[0;34m,\u001b[0m \u001b[0;34m'Col3'\u001b[0m\u001b[0;34m,\u001b[0m \u001b[0;36m4.5\u001b[0m\u001b[0;34m]\u001b[0m\u001b[0;34m]\u001b[0m\u001b[0;34m,\u001b[0m \u001b[0;34m\"\\n\"\u001b[0m\u001b[0;34m)\u001b[0m\u001b[0;34m\u001b[0m\u001b[0;34m\u001b[0m\u001b[0m\n\u001b[0m\u001b[1;32m     13\u001b[0m \u001b[0;34m\u001b[0m\u001b[0m\n\u001b[1;32m     14\u001b[0m \u001b[0;31m# use boolean indexing for selection\u001b[0m\u001b[0;34m\u001b[0m\u001b[0;34m\u001b[0m\u001b[0;34m\u001b[0m\u001b[0m\n",
            "\u001b[0;32m/usr/local/lib/python3.6/dist-packages/pandas/core/series.py\u001b[0m in \u001b[0;36m__getitem__\u001b[0;34m(self, key)\u001b[0m\n\u001b[1;32m    904\u001b[0m             \u001b[0;32mreturn\u001b[0m \u001b[0mself\u001b[0m\u001b[0;34m.\u001b[0m\u001b[0m_get_values\u001b[0m\u001b[0;34m(\u001b[0m\u001b[0mkey\u001b[0m\u001b[0;34m)\u001b[0m\u001b[0;34m\u001b[0m\u001b[0;34m\u001b[0m\u001b[0m\n\u001b[1;32m    905\u001b[0m \u001b[0;34m\u001b[0m\u001b[0m\n\u001b[0;32m--> 906\u001b[0;31m         \u001b[0;32mreturn\u001b[0m \u001b[0mself\u001b[0m\u001b[0;34m.\u001b[0m\u001b[0m_get_with\u001b[0m\u001b[0;34m(\u001b[0m\u001b[0mkey\u001b[0m\u001b[0;34m)\u001b[0m\u001b[0;34m\u001b[0m\u001b[0;34m\u001b[0m\u001b[0m\n\u001b[0m\u001b[1;32m    907\u001b[0m \u001b[0;34m\u001b[0m\u001b[0m\n\u001b[1;32m    908\u001b[0m     \u001b[0;32mdef\u001b[0m \u001b[0m_get_with\u001b[0m\u001b[0;34m(\u001b[0m\u001b[0mself\u001b[0m\u001b[0;34m,\u001b[0m \u001b[0mkey\u001b[0m\u001b[0;34m)\u001b[0m\u001b[0;34m:\u001b[0m\u001b[0;34m\u001b[0m\u001b[0;34m\u001b[0m\u001b[0m\n",
            "\u001b[0;32m/usr/local/lib/python3.6/dist-packages/pandas/core/series.py\u001b[0m in \u001b[0;36m_get_with\u001b[0;34m(self, key)\u001b[0m\n\u001b[1;32m    944\u001b[0m \u001b[0;34m\u001b[0m\u001b[0m\n\u001b[1;32m    945\u001b[0m         \u001b[0;31m# handle the dup indexing case GH#4246\u001b[0m\u001b[0;34m\u001b[0m\u001b[0;34m\u001b[0m\u001b[0;34m\u001b[0m\u001b[0m\n\u001b[0;32m--> 946\u001b[0;31m         \u001b[0;32mreturn\u001b[0m \u001b[0mself\u001b[0m\u001b[0;34m.\u001b[0m\u001b[0mloc\u001b[0m\u001b[0;34m[\u001b[0m\u001b[0mkey\u001b[0m\u001b[0;34m]\u001b[0m\u001b[0;34m\u001b[0m\u001b[0;34m\u001b[0m\u001b[0m\n\u001b[0m\u001b[1;32m    947\u001b[0m \u001b[0;34m\u001b[0m\u001b[0m\n\u001b[1;32m    948\u001b[0m     \u001b[0;32mdef\u001b[0m \u001b[0m_get_values_tuple\u001b[0m\u001b[0;34m(\u001b[0m\u001b[0mself\u001b[0m\u001b[0;34m,\u001b[0m \u001b[0mkey\u001b[0m\u001b[0;34m)\u001b[0m\u001b[0;34m:\u001b[0m\u001b[0;34m\u001b[0m\u001b[0;34m\u001b[0m\u001b[0m\n",
            "\u001b[0;32m/usr/local/lib/python3.6/dist-packages/pandas/core/indexing.py\u001b[0m in \u001b[0;36m__getitem__\u001b[0;34m(self, key)\u001b[0m\n\u001b[1;32m    877\u001b[0m \u001b[0;34m\u001b[0m\u001b[0m\n\u001b[1;32m    878\u001b[0m             \u001b[0mmaybe_callable\u001b[0m \u001b[0;34m=\u001b[0m \u001b[0mcom\u001b[0m\u001b[0;34m.\u001b[0m\u001b[0mapply_if_callable\u001b[0m\u001b[0;34m(\u001b[0m\u001b[0mkey\u001b[0m\u001b[0;34m,\u001b[0m \u001b[0mself\u001b[0m\u001b[0;34m.\u001b[0m\u001b[0mobj\u001b[0m\u001b[0;34m)\u001b[0m\u001b[0;34m\u001b[0m\u001b[0;34m\u001b[0m\u001b[0m\n\u001b[0;32m--> 879\u001b[0;31m             \u001b[0;32mreturn\u001b[0m \u001b[0mself\u001b[0m\u001b[0;34m.\u001b[0m\u001b[0m_getitem_axis\u001b[0m\u001b[0;34m(\u001b[0m\u001b[0mmaybe_callable\u001b[0m\u001b[0;34m,\u001b[0m \u001b[0maxis\u001b[0m\u001b[0;34m=\u001b[0m\u001b[0maxis\u001b[0m\u001b[0;34m)\u001b[0m\u001b[0;34m\u001b[0m\u001b[0;34m\u001b[0m\u001b[0m\n\u001b[0m\u001b[1;32m    880\u001b[0m \u001b[0;34m\u001b[0m\u001b[0m\n\u001b[1;32m    881\u001b[0m     \u001b[0;32mdef\u001b[0m \u001b[0m_is_scalar_access\u001b[0m\u001b[0;34m(\u001b[0m\u001b[0mself\u001b[0m\u001b[0;34m,\u001b[0m \u001b[0mkey\u001b[0m\u001b[0;34m:\u001b[0m \u001b[0mTuple\u001b[0m\u001b[0;34m)\u001b[0m\u001b[0;34m:\u001b[0m\u001b[0;34m\u001b[0m\u001b[0;34m\u001b[0m\u001b[0m\n",
            "\u001b[0;32m/usr/local/lib/python3.6/dist-packages/pandas/core/indexing.py\u001b[0m in \u001b[0;36m_getitem_axis\u001b[0;34m(self, key, axis)\u001b[0m\n\u001b[1;32m   1097\u001b[0m                     \u001b[0;32mraise\u001b[0m \u001b[0mValueError\u001b[0m\u001b[0;34m(\u001b[0m\u001b[0;34m\"Cannot index with multidimensional key\"\u001b[0m\u001b[0;34m)\u001b[0m\u001b[0;34m\u001b[0m\u001b[0;34m\u001b[0m\u001b[0m\n\u001b[1;32m   1098\u001b[0m \u001b[0;34m\u001b[0m\u001b[0m\n\u001b[0;32m-> 1099\u001b[0;31m                 \u001b[0;32mreturn\u001b[0m \u001b[0mself\u001b[0m\u001b[0;34m.\u001b[0m\u001b[0m_getitem_iterable\u001b[0m\u001b[0;34m(\u001b[0m\u001b[0mkey\u001b[0m\u001b[0;34m,\u001b[0m \u001b[0maxis\u001b[0m\u001b[0;34m=\u001b[0m\u001b[0maxis\u001b[0m\u001b[0;34m)\u001b[0m\u001b[0;34m\u001b[0m\u001b[0;34m\u001b[0m\u001b[0m\n\u001b[0m\u001b[1;32m   1100\u001b[0m \u001b[0;34m\u001b[0m\u001b[0m\n\u001b[1;32m   1101\u001b[0m             \u001b[0;31m# nested tuple slicing\u001b[0m\u001b[0;34m\u001b[0m\u001b[0;34m\u001b[0m\u001b[0;34m\u001b[0m\u001b[0m\n",
            "\u001b[0;32m/usr/local/lib/python3.6/dist-packages/pandas/core/indexing.py\u001b[0m in \u001b[0;36m_getitem_iterable\u001b[0;34m(self, key, axis)\u001b[0m\n\u001b[1;32m   1035\u001b[0m \u001b[0;34m\u001b[0m\u001b[0m\n\u001b[1;32m   1036\u001b[0m         \u001b[0;31m# A collection of keys\u001b[0m\u001b[0;34m\u001b[0m\u001b[0;34m\u001b[0m\u001b[0;34m\u001b[0m\u001b[0m\n\u001b[0;32m-> 1037\u001b[0;31m         \u001b[0mkeyarr\u001b[0m\u001b[0;34m,\u001b[0m \u001b[0mindexer\u001b[0m \u001b[0;34m=\u001b[0m \u001b[0mself\u001b[0m\u001b[0;34m.\u001b[0m\u001b[0m_get_listlike_indexer\u001b[0m\u001b[0;34m(\u001b[0m\u001b[0mkey\u001b[0m\u001b[0;34m,\u001b[0m \u001b[0maxis\u001b[0m\u001b[0;34m,\u001b[0m \u001b[0mraise_missing\u001b[0m\u001b[0;34m=\u001b[0m\u001b[0;32mFalse\u001b[0m\u001b[0;34m)\u001b[0m\u001b[0;34m\u001b[0m\u001b[0;34m\u001b[0m\u001b[0m\n\u001b[0m\u001b[1;32m   1038\u001b[0m         return self.obj._reindex_with_indexers(\n\u001b[1;32m   1039\u001b[0m             \u001b[0;34m{\u001b[0m\u001b[0maxis\u001b[0m\u001b[0;34m:\u001b[0m \u001b[0;34m[\u001b[0m\u001b[0mkeyarr\u001b[0m\u001b[0;34m,\u001b[0m \u001b[0mindexer\u001b[0m\u001b[0;34m]\u001b[0m\u001b[0;34m}\u001b[0m\u001b[0;34m,\u001b[0m \u001b[0mcopy\u001b[0m\u001b[0;34m=\u001b[0m\u001b[0;32mTrue\u001b[0m\u001b[0;34m,\u001b[0m \u001b[0mallow_dups\u001b[0m\u001b[0;34m=\u001b[0m\u001b[0;32mTrue\u001b[0m\u001b[0;34m\u001b[0m\u001b[0;34m\u001b[0m\u001b[0m\n",
            "\u001b[0;32m/usr/local/lib/python3.6/dist-packages/pandas/core/indexing.py\u001b[0m in \u001b[0;36m_get_listlike_indexer\u001b[0;34m(self, key, axis, raise_missing)\u001b[0m\n\u001b[1;32m   1252\u001b[0m             \u001b[0mkeyarr\u001b[0m\u001b[0;34m,\u001b[0m \u001b[0mindexer\u001b[0m\u001b[0;34m,\u001b[0m \u001b[0mnew_indexer\u001b[0m \u001b[0;34m=\u001b[0m \u001b[0max\u001b[0m\u001b[0;34m.\u001b[0m\u001b[0m_reindex_non_unique\u001b[0m\u001b[0;34m(\u001b[0m\u001b[0mkeyarr\u001b[0m\u001b[0;34m)\u001b[0m\u001b[0;34m\u001b[0m\u001b[0;34m\u001b[0m\u001b[0m\n\u001b[1;32m   1253\u001b[0m \u001b[0;34m\u001b[0m\u001b[0m\n\u001b[0;32m-> 1254\u001b[0;31m         \u001b[0mself\u001b[0m\u001b[0;34m.\u001b[0m\u001b[0m_validate_read_indexer\u001b[0m\u001b[0;34m(\u001b[0m\u001b[0mkeyarr\u001b[0m\u001b[0;34m,\u001b[0m \u001b[0mindexer\u001b[0m\u001b[0;34m,\u001b[0m \u001b[0maxis\u001b[0m\u001b[0;34m,\u001b[0m \u001b[0mraise_missing\u001b[0m\u001b[0;34m=\u001b[0m\u001b[0mraise_missing\u001b[0m\u001b[0;34m)\u001b[0m\u001b[0;34m\u001b[0m\u001b[0;34m\u001b[0m\u001b[0m\n\u001b[0m\u001b[1;32m   1255\u001b[0m         \u001b[0;32mreturn\u001b[0m \u001b[0mkeyarr\u001b[0m\u001b[0;34m,\u001b[0m \u001b[0mindexer\u001b[0m\u001b[0;34m\u001b[0m\u001b[0;34m\u001b[0m\u001b[0m\n\u001b[1;32m   1256\u001b[0m \u001b[0;34m\u001b[0m\u001b[0m\n",
            "\u001b[0;32m/usr/local/lib/python3.6/dist-packages/pandas/core/indexing.py\u001b[0m in \u001b[0;36m_validate_read_indexer\u001b[0;34m(self, key, indexer, axis, raise_missing)\u001b[0m\n\u001b[1;32m   1314\u001b[0m                 \u001b[0;32mwith\u001b[0m \u001b[0moption_context\u001b[0m\u001b[0;34m(\u001b[0m\u001b[0;34m\"display.max_seq_items\"\u001b[0m\u001b[0;34m,\u001b[0m \u001b[0;36m10\u001b[0m\u001b[0;34m,\u001b[0m \u001b[0;34m\"display.width\"\u001b[0m\u001b[0;34m,\u001b[0m \u001b[0;36m80\u001b[0m\u001b[0;34m)\u001b[0m\u001b[0;34m:\u001b[0m\u001b[0;34m\u001b[0m\u001b[0;34m\u001b[0m\u001b[0m\n\u001b[1;32m   1315\u001b[0m                     raise KeyError(\n\u001b[0;32m-> 1316\u001b[0;31m                         \u001b[0;34m\"Passing list-likes to .loc or [] with any missing labels \"\u001b[0m\u001b[0;34m\u001b[0m\u001b[0;34m\u001b[0m\u001b[0m\n\u001b[0m\u001b[1;32m   1317\u001b[0m                         \u001b[0;34m\"is no longer supported. \"\u001b[0m\u001b[0;34m\u001b[0m\u001b[0;34m\u001b[0m\u001b[0m\n\u001b[1;32m   1318\u001b[0m                         \u001b[0;34mf\"The following labels were missing: {not_found}. \"\u001b[0m\u001b[0;34m\u001b[0m\u001b[0;34m\u001b[0m\u001b[0m\n",
            "\u001b[0;31mKeyError\u001b[0m: \"Passing list-likes to .loc or [] with any missing labels is no longer supported. The following labels were missing: Index([4.5], dtype='object'). See https://pandas.pydata.org/pandas-docs/stable/user_guide/indexing.html#deprecate-loc-reindex-listlike\""
          ]
        }
      ]
    },
    {
      "cell_type": "markdown",
      "metadata": {
        "id": "Nm3IJxRclb-K"
      },
      "source": [
        "#### DataFrame\n",
        "A DataFrame is a tabular data structure comprised of rows and columns, akin to database table, or R's data.frame object. In a loose way, we can also think of a DataFrame as a group of Series objects that share an index (the column names).\n",
        "\n",
        "We can create a DataFrame by passing a dict of objects that can be converted to series-like."
      ]
    },
    {
      "cell_type": "code",
      "metadata": {
        "id": "S-TmhDvMlb-K",
        "colab": {
          "base_uri": "https://localhost:8080/",
          "height": 284
        },
        "outputId": "b90ec683-0dbd-455c-b9d9-27a1088f261a"
      },
      "source": [
        "data = {'year': [2013, 2014, 2015, 2013, 2014, 2015, 2013, 2014],\n",
        "        'team': ['Manchester United', 'Chelsea', 'Asernal', 'Liverpool', 'West Ham', 'Newcastle', 'Machester City', 'Tottenham'],\n",
        "        'wins': [11, 8, 10, 15, 11, 6, 10, 4],\n",
        "        'losses': [5, 8, 6, 1, 5, 10, 6, 12]}\n",
        "football = pd.DataFrame(data, columns=['year', 'team', 'wins', 'losses'])\n",
        "football"
      ],
      "execution_count": 19,
      "outputs": [
        {
          "output_type": "execute_result",
          "data": {
            "text/html": [
              "<div>\n",
              "<style scoped>\n",
              "    .dataframe tbody tr th:only-of-type {\n",
              "        vertical-align: middle;\n",
              "    }\n",
              "\n",
              "    .dataframe tbody tr th {\n",
              "        vertical-align: top;\n",
              "    }\n",
              "\n",
              "    .dataframe thead th {\n",
              "        text-align: right;\n",
              "    }\n",
              "</style>\n",
              "<table border=\"1\" class=\"dataframe\">\n",
              "  <thead>\n",
              "    <tr style=\"text-align: right;\">\n",
              "      <th></th>\n",
              "      <th>year</th>\n",
              "      <th>team</th>\n",
              "      <th>wins</th>\n",
              "      <th>losses</th>\n",
              "    </tr>\n",
              "  </thead>\n",
              "  <tbody>\n",
              "    <tr>\n",
              "      <th>0</th>\n",
              "      <td>2013</td>\n",
              "      <td>Manchester United</td>\n",
              "      <td>11</td>\n",
              "      <td>5</td>\n",
              "    </tr>\n",
              "    <tr>\n",
              "      <th>1</th>\n",
              "      <td>2014</td>\n",
              "      <td>Chelsea</td>\n",
              "      <td>8</td>\n",
              "      <td>8</td>\n",
              "    </tr>\n",
              "    <tr>\n",
              "      <th>2</th>\n",
              "      <td>2015</td>\n",
              "      <td>Asernal</td>\n",
              "      <td>10</td>\n",
              "      <td>6</td>\n",
              "    </tr>\n",
              "    <tr>\n",
              "      <th>3</th>\n",
              "      <td>2013</td>\n",
              "      <td>Liverpool</td>\n",
              "      <td>15</td>\n",
              "      <td>1</td>\n",
              "    </tr>\n",
              "    <tr>\n",
              "      <th>4</th>\n",
              "      <td>2014</td>\n",
              "      <td>West Ham</td>\n",
              "      <td>11</td>\n",
              "      <td>5</td>\n",
              "    </tr>\n",
              "    <tr>\n",
              "      <th>5</th>\n",
              "      <td>2015</td>\n",
              "      <td>Newcastle</td>\n",
              "      <td>6</td>\n",
              "      <td>10</td>\n",
              "    </tr>\n",
              "    <tr>\n",
              "      <th>6</th>\n",
              "      <td>2013</td>\n",
              "      <td>Machester City</td>\n",
              "      <td>10</td>\n",
              "      <td>6</td>\n",
              "    </tr>\n",
              "    <tr>\n",
              "      <th>7</th>\n",
              "      <td>2014</td>\n",
              "      <td>Tottenham</td>\n",
              "      <td>4</td>\n",
              "      <td>12</td>\n",
              "    </tr>\n",
              "  </tbody>\n",
              "</table>\n",
              "</div>"
            ],
            "text/plain": [
              "   year               team  wins  losses\n",
              "0  2013  Manchester United    11       5\n",
              "1  2014            Chelsea     8       8\n",
              "2  2015            Asernal    10       6\n",
              "3  2013          Liverpool    15       1\n",
              "4  2014           West Ham    11       5\n",
              "5  2015          Newcastle     6      10\n",
              "6  2013     Machester City    10       6\n",
              "7  2014          Tottenham     4      12"
            ]
          },
          "metadata": {
            "tags": []
          },
          "execution_count": 19
        }
      ]
    },
    {
      "cell_type": "markdown",
      "metadata": {
        "id": "BrgfcP-flb-K"
      },
      "source": [
        "We can store data as a CSV file, or read data from a CSV file."
      ]
    },
    {
      "cell_type": "code",
      "metadata": {
        "id": "F2KHcenWlb-K",
        "colab": {
          "base_uri": "https://localhost:8080/",
          "height": 195
        },
        "outputId": "04cc5821-83a0-49d7-eb15-13f65f235422"
      },
      "source": [
        "# save data to a csv file without the index\n",
        "football.to_csv('football.csv', index=False)\n",
        "\n",
        "from_csv = pd.read_csv('football.csv')\n",
        "from_csv.head()"
      ],
      "execution_count": 20,
      "outputs": [
        {
          "output_type": "execute_result",
          "data": {
            "text/html": [
              "<div>\n",
              "<style scoped>\n",
              "    .dataframe tbody tr th:only-of-type {\n",
              "        vertical-align: middle;\n",
              "    }\n",
              "\n",
              "    .dataframe tbody tr th {\n",
              "        vertical-align: top;\n",
              "    }\n",
              "\n",
              "    .dataframe thead th {\n",
              "        text-align: right;\n",
              "    }\n",
              "</style>\n",
              "<table border=\"1\" class=\"dataframe\">\n",
              "  <thead>\n",
              "    <tr style=\"text-align: right;\">\n",
              "      <th></th>\n",
              "      <th>year</th>\n",
              "      <th>team</th>\n",
              "      <th>wins</th>\n",
              "      <th>losses</th>\n",
              "    </tr>\n",
              "  </thead>\n",
              "  <tbody>\n",
              "    <tr>\n",
              "      <th>0</th>\n",
              "      <td>2013</td>\n",
              "      <td>Manchester United</td>\n",
              "      <td>11</td>\n",
              "      <td>5</td>\n",
              "    </tr>\n",
              "    <tr>\n",
              "      <th>1</th>\n",
              "      <td>2014</td>\n",
              "      <td>Chelsea</td>\n",
              "      <td>8</td>\n",
              "      <td>8</td>\n",
              "    </tr>\n",
              "    <tr>\n",
              "      <th>2</th>\n",
              "      <td>2015</td>\n",
              "      <td>Asernal</td>\n",
              "      <td>10</td>\n",
              "      <td>6</td>\n",
              "    </tr>\n",
              "    <tr>\n",
              "      <th>3</th>\n",
              "      <td>2013</td>\n",
              "      <td>Liverpool</td>\n",
              "      <td>15</td>\n",
              "      <td>1</td>\n",
              "    </tr>\n",
              "    <tr>\n",
              "      <th>4</th>\n",
              "      <td>2014</td>\n",
              "      <td>West Ham</td>\n",
              "      <td>11</td>\n",
              "      <td>5</td>\n",
              "    </tr>\n",
              "  </tbody>\n",
              "</table>\n",
              "</div>"
            ],
            "text/plain": [
              "   year               team  wins  losses\n",
              "0  2013  Manchester United    11       5\n",
              "1  2014            Chelsea     8       8\n",
              "2  2015            Asernal    10       6\n",
              "3  2013          Liverpool    15       1\n",
              "4  2014           West Ham    11       5"
            ]
          },
          "metadata": {
            "tags": []
          },
          "execution_count": 20
        }
      ]
    },
    {
      "cell_type": "markdown",
      "metadata": {
        "id": "DqzjAo1glb-K"
      },
      "source": [
        "To read a CSV file with a custom delimiter between values and custom columns' names, we can use parameters `sep` and `names` relatively.\n",
        "Moreover, Pandas also supports to read and write to [Excel file](http://pandas.pydata.org/pandas-docs/stable/io.html#io-excel) , sqlite database file, URL,  or even clipboard.\n",
        "\n",
        "We can have an overview on the data by using functions `info` and `describe`."
      ]
    },
    {
      "cell_type": "code",
      "metadata": {
        "id": "lA9SyxXTlb-K",
        "colab": {
          "base_uri": "https://localhost:8080/",
          "height": 502
        },
        "outputId": "b21ac574-26db-4e82-9bd4-6510772a1236"
      },
      "source": [
        "print(football.info(), \"\\n\")\n",
        "football.describe()"
      ],
      "execution_count": 21,
      "outputs": [
        {
          "output_type": "stream",
          "text": [
            "<class 'pandas.core.frame.DataFrame'>\n",
            "RangeIndex: 8 entries, 0 to 7\n",
            "Data columns (total 4 columns):\n",
            " #   Column  Non-Null Count  Dtype \n",
            "---  ------  --------------  ----- \n",
            " 0   year    8 non-null      int64 \n",
            " 1   team    8 non-null      object\n",
            " 2   wins    8 non-null      int64 \n",
            " 3   losses  8 non-null      int64 \n",
            "dtypes: int64(3), object(1)\n",
            "memory usage: 384.0+ bytes\n",
            "None \n",
            "\n"
          ],
          "name": "stdout"
        },
        {
          "output_type": "execute_result",
          "data": {
            "text/html": [
              "<div>\n",
              "<style scoped>\n",
              "    .dataframe tbody tr th:only-of-type {\n",
              "        vertical-align: middle;\n",
              "    }\n",
              "\n",
              "    .dataframe tbody tr th {\n",
              "        vertical-align: top;\n",
              "    }\n",
              "\n",
              "    .dataframe thead th {\n",
              "        text-align: right;\n",
              "    }\n",
              "</style>\n",
              "<table border=\"1\" class=\"dataframe\">\n",
              "  <thead>\n",
              "    <tr style=\"text-align: right;\">\n",
              "      <th></th>\n",
              "      <th>year</th>\n",
              "      <th>wins</th>\n",
              "      <th>losses</th>\n",
              "    </tr>\n",
              "  </thead>\n",
              "  <tbody>\n",
              "    <tr>\n",
              "      <th>count</th>\n",
              "      <td>8.000000</td>\n",
              "      <td>8.000000</td>\n",
              "      <td>8.000000</td>\n",
              "    </tr>\n",
              "    <tr>\n",
              "      <th>mean</th>\n",
              "      <td>2013.875000</td>\n",
              "      <td>9.375000</td>\n",
              "      <td>6.625000</td>\n",
              "    </tr>\n",
              "    <tr>\n",
              "      <th>std</th>\n",
              "      <td>0.834523</td>\n",
              "      <td>3.377975</td>\n",
              "      <td>3.377975</td>\n",
              "    </tr>\n",
              "    <tr>\n",
              "      <th>min</th>\n",
              "      <td>2013.000000</td>\n",
              "      <td>4.000000</td>\n",
              "      <td>1.000000</td>\n",
              "    </tr>\n",
              "    <tr>\n",
              "      <th>25%</th>\n",
              "      <td>2013.000000</td>\n",
              "      <td>7.500000</td>\n",
              "      <td>5.000000</td>\n",
              "    </tr>\n",
              "    <tr>\n",
              "      <th>50%</th>\n",
              "      <td>2014.000000</td>\n",
              "      <td>10.000000</td>\n",
              "      <td>6.000000</td>\n",
              "    </tr>\n",
              "    <tr>\n",
              "      <th>75%</th>\n",
              "      <td>2014.250000</td>\n",
              "      <td>11.000000</td>\n",
              "      <td>8.500000</td>\n",
              "    </tr>\n",
              "    <tr>\n",
              "      <th>max</th>\n",
              "      <td>2015.000000</td>\n",
              "      <td>15.000000</td>\n",
              "      <td>12.000000</td>\n",
              "    </tr>\n",
              "  </tbody>\n",
              "</table>\n",
              "</div>"
            ],
            "text/plain": [
              "              year       wins     losses\n",
              "count     8.000000   8.000000   8.000000\n",
              "mean   2013.875000   9.375000   6.625000\n",
              "std       0.834523   3.377975   3.377975\n",
              "min    2013.000000   4.000000   1.000000\n",
              "25%    2013.000000   7.500000   5.000000\n",
              "50%    2014.000000  10.000000   6.000000\n",
              "75%    2014.250000  11.000000   8.500000\n",
              "max    2015.000000  15.000000  12.000000"
            ]
          },
          "metadata": {
            "tags": []
          },
          "execution_count": 21
        }
      ]
    },
    {
      "cell_type": "markdown",
      "metadata": {
        "id": "s2D-dWoTlb-K"
      },
      "source": [
        "Numpy's regular slicing syntax works as well."
      ]
    },
    {
      "cell_type": "code",
      "metadata": {
        "id": "nJUWfpIrlb-L",
        "colab": {
          "base_uri": "https://localhost:8080/"
        },
        "outputId": "76ec8536-fd46-45c5-8df7-534e63f0a78a"
      },
      "source": [
        "print(football[0:2], \"\\n\")\n",
        "\n",
        "# show only the teams that have won more than 10 matches from 2014\n",
        "print(football[(football.year >= 2014) & (football.wins >= 10)])"
      ],
      "execution_count": 22,
      "outputs": [
        {
          "output_type": "stream",
          "text": [
            "   year               team  wins  losses\n",
            "0  2013  Manchester United    11       5\n",
            "1  2014            Chelsea     8       8 \n",
            "\n",
            "   year      team  wins  losses\n",
            "2  2015   Asernal    10       6\n",
            "4  2014  West Ham    11       5\n"
          ],
          "name": "stdout"
        }
      ]
    },
    {
      "cell_type": "markdown",
      "metadata": {
        "id": "N8_jTU9rlb-L"
      },
      "source": [
        "An important feature that Pandas supports is `JOIN`. Very often, the data comes from multiple sources, in multiple files. For example, we have 2 CSV files, one contains the information of Artists, the other contains information of Songs. If we want to query the artist name and his/her corresponding songs, we have to do joining two dataframe.\n",
        "\n",
        "Similar to SQL, in Pandas, you can do inner join, left outer join, right outer join and full outer join. Let's see a small example. Assume that we have two dataset of singers and songs. The relationship between two datasets is maintained by a constrain on `singer_code`."
      ]
    },
    {
      "cell_type": "code",
      "metadata": {
        "id": "WVLsFYwvlb-L",
        "colab": {
          "base_uri": "https://localhost:8080/"
        },
        "outputId": "309c970e-a2f6-46e1-ec8c-b6ad776ed90a"
      },
      "source": [
        "singers = pd.DataFrame({'singer_code': range(5), \n",
        "                           'singer_name': ['singer_a', 'singer_b', 'singer_c', 'singer_d', 'singer_e']})\n",
        "songs = pd.DataFrame({'singer_code': [2, 2, 3, 4, 5], \n",
        "                           'song_name': ['song_f', 'song_g', 'song_h', 'song_i', 'song_j']})\n",
        "print(singers)\n",
        "print('\\n')\n",
        "print(songs)"
      ],
      "execution_count": 23,
      "outputs": [
        {
          "output_type": "stream",
          "text": [
            "   singer_code singer_name\n",
            "0            0    singer_a\n",
            "1            1    singer_b\n",
            "2            2    singer_c\n",
            "3            3    singer_d\n",
            "4            4    singer_e\n",
            "\n",
            "\n",
            "   singer_code song_name\n",
            "0            2    song_f\n",
            "1            2    song_g\n",
            "2            3    song_h\n",
            "3            4    song_i\n",
            "4            5    song_j\n"
          ],
          "name": "stdout"
        }
      ]
    },
    {
      "cell_type": "code",
      "metadata": {
        "id": "e_t9K7YYlb-L",
        "colab": {
          "base_uri": "https://localhost:8080/",
          "height": 166
        },
        "outputId": "661c64c8-6ca7-483f-9f88-46698d841a1c"
      },
      "source": [
        "# inner join\n",
        "pd.merge(singers, songs, on='singer_code', how='inner')"
      ],
      "execution_count": 24,
      "outputs": [
        {
          "output_type": "execute_result",
          "data": {
            "text/html": [
              "<div>\n",
              "<style scoped>\n",
              "    .dataframe tbody tr th:only-of-type {\n",
              "        vertical-align: middle;\n",
              "    }\n",
              "\n",
              "    .dataframe tbody tr th {\n",
              "        vertical-align: top;\n",
              "    }\n",
              "\n",
              "    .dataframe thead th {\n",
              "        text-align: right;\n",
              "    }\n",
              "</style>\n",
              "<table border=\"1\" class=\"dataframe\">\n",
              "  <thead>\n",
              "    <tr style=\"text-align: right;\">\n",
              "      <th></th>\n",
              "      <th>singer_code</th>\n",
              "      <th>singer_name</th>\n",
              "      <th>song_name</th>\n",
              "    </tr>\n",
              "  </thead>\n",
              "  <tbody>\n",
              "    <tr>\n",
              "      <th>0</th>\n",
              "      <td>2</td>\n",
              "      <td>singer_c</td>\n",
              "      <td>song_f</td>\n",
              "    </tr>\n",
              "    <tr>\n",
              "      <th>1</th>\n",
              "      <td>2</td>\n",
              "      <td>singer_c</td>\n",
              "      <td>song_g</td>\n",
              "    </tr>\n",
              "    <tr>\n",
              "      <th>2</th>\n",
              "      <td>3</td>\n",
              "      <td>singer_d</td>\n",
              "      <td>song_h</td>\n",
              "    </tr>\n",
              "    <tr>\n",
              "      <th>3</th>\n",
              "      <td>4</td>\n",
              "      <td>singer_e</td>\n",
              "      <td>song_i</td>\n",
              "    </tr>\n",
              "  </tbody>\n",
              "</table>\n",
              "</div>"
            ],
            "text/plain": [
              "   singer_code singer_name song_name\n",
              "0            2    singer_c    song_f\n",
              "1            2    singer_c    song_g\n",
              "2            3    singer_d    song_h\n",
              "3            4    singer_e    song_i"
            ]
          },
          "metadata": {
            "tags": []
          },
          "execution_count": 24
        }
      ]
    },
    {
      "cell_type": "code",
      "metadata": {
        "id": "NYfGYyrJlb-L",
        "colab": {
          "base_uri": "https://localhost:8080/",
          "height": 225
        },
        "outputId": "a61ccade-61ae-4a15-ae94-e528cd12e51e"
      },
      "source": [
        "# left join\n",
        "pd.merge(singers, songs, on='singer_code', how='left')"
      ],
      "execution_count": 25,
      "outputs": [
        {
          "output_type": "execute_result",
          "data": {
            "text/html": [
              "<div>\n",
              "<style scoped>\n",
              "    .dataframe tbody tr th:only-of-type {\n",
              "        vertical-align: middle;\n",
              "    }\n",
              "\n",
              "    .dataframe tbody tr th {\n",
              "        vertical-align: top;\n",
              "    }\n",
              "\n",
              "    .dataframe thead th {\n",
              "        text-align: right;\n",
              "    }\n",
              "</style>\n",
              "<table border=\"1\" class=\"dataframe\">\n",
              "  <thead>\n",
              "    <tr style=\"text-align: right;\">\n",
              "      <th></th>\n",
              "      <th>singer_code</th>\n",
              "      <th>singer_name</th>\n",
              "      <th>song_name</th>\n",
              "    </tr>\n",
              "  </thead>\n",
              "  <tbody>\n",
              "    <tr>\n",
              "      <th>0</th>\n",
              "      <td>0</td>\n",
              "      <td>singer_a</td>\n",
              "      <td>NaN</td>\n",
              "    </tr>\n",
              "    <tr>\n",
              "      <th>1</th>\n",
              "      <td>1</td>\n",
              "      <td>singer_b</td>\n",
              "      <td>NaN</td>\n",
              "    </tr>\n",
              "    <tr>\n",
              "      <th>2</th>\n",
              "      <td>2</td>\n",
              "      <td>singer_c</td>\n",
              "      <td>song_f</td>\n",
              "    </tr>\n",
              "    <tr>\n",
              "      <th>3</th>\n",
              "      <td>2</td>\n",
              "      <td>singer_c</td>\n",
              "      <td>song_g</td>\n",
              "    </tr>\n",
              "    <tr>\n",
              "      <th>4</th>\n",
              "      <td>3</td>\n",
              "      <td>singer_d</td>\n",
              "      <td>song_h</td>\n",
              "    </tr>\n",
              "    <tr>\n",
              "      <th>5</th>\n",
              "      <td>4</td>\n",
              "      <td>singer_e</td>\n",
              "      <td>song_i</td>\n",
              "    </tr>\n",
              "  </tbody>\n",
              "</table>\n",
              "</div>"
            ],
            "text/plain": [
              "   singer_code singer_name song_name\n",
              "0            0    singer_a       NaN\n",
              "1            1    singer_b       NaN\n",
              "2            2    singer_c    song_f\n",
              "3            2    singer_c    song_g\n",
              "4            3    singer_d    song_h\n",
              "5            4    singer_e    song_i"
            ]
          },
          "metadata": {
            "tags": []
          },
          "execution_count": 25
        }
      ]
    },
    {
      "cell_type": "code",
      "metadata": {
        "id": "p4jPsLQqlb-L",
        "colab": {
          "base_uri": "https://localhost:8080/",
          "height": 195
        },
        "outputId": "1686210e-c999-40a7-bca1-be03d44659ba"
      },
      "source": [
        "# right join\n",
        "pd.merge(singers, songs, on='singer_code', how='right')"
      ],
      "execution_count": 26,
      "outputs": [
        {
          "output_type": "execute_result",
          "data": {
            "text/html": [
              "<div>\n",
              "<style scoped>\n",
              "    .dataframe tbody tr th:only-of-type {\n",
              "        vertical-align: middle;\n",
              "    }\n",
              "\n",
              "    .dataframe tbody tr th {\n",
              "        vertical-align: top;\n",
              "    }\n",
              "\n",
              "    .dataframe thead th {\n",
              "        text-align: right;\n",
              "    }\n",
              "</style>\n",
              "<table border=\"1\" class=\"dataframe\">\n",
              "  <thead>\n",
              "    <tr style=\"text-align: right;\">\n",
              "      <th></th>\n",
              "      <th>singer_code</th>\n",
              "      <th>singer_name</th>\n",
              "      <th>song_name</th>\n",
              "    </tr>\n",
              "  </thead>\n",
              "  <tbody>\n",
              "    <tr>\n",
              "      <th>0</th>\n",
              "      <td>2</td>\n",
              "      <td>singer_c</td>\n",
              "      <td>song_f</td>\n",
              "    </tr>\n",
              "    <tr>\n",
              "      <th>1</th>\n",
              "      <td>2</td>\n",
              "      <td>singer_c</td>\n",
              "      <td>song_g</td>\n",
              "    </tr>\n",
              "    <tr>\n",
              "      <th>2</th>\n",
              "      <td>3</td>\n",
              "      <td>singer_d</td>\n",
              "      <td>song_h</td>\n",
              "    </tr>\n",
              "    <tr>\n",
              "      <th>3</th>\n",
              "      <td>4</td>\n",
              "      <td>singer_e</td>\n",
              "      <td>song_i</td>\n",
              "    </tr>\n",
              "    <tr>\n",
              "      <th>4</th>\n",
              "      <td>5</td>\n",
              "      <td>NaN</td>\n",
              "      <td>song_j</td>\n",
              "    </tr>\n",
              "  </tbody>\n",
              "</table>\n",
              "</div>"
            ],
            "text/plain": [
              "   singer_code singer_name song_name\n",
              "0            2    singer_c    song_f\n",
              "1            2    singer_c    song_g\n",
              "2            3    singer_d    song_h\n",
              "3            4    singer_e    song_i\n",
              "4            5         NaN    song_j"
            ]
          },
          "metadata": {
            "tags": []
          },
          "execution_count": 26
        }
      ]
    },
    {
      "cell_type": "code",
      "metadata": {
        "id": "-r7brNDXlb-L",
        "colab": {
          "base_uri": "https://localhost:8080/",
          "height": 254
        },
        "outputId": "c43b7eda-83df-467a-aac7-2a9705d54cb6"
      },
      "source": [
        "# outer join (full join)\n",
        "pd.merge(singers, songs, on='singer_code', how='outer')"
      ],
      "execution_count": 27,
      "outputs": [
        {
          "output_type": "execute_result",
          "data": {
            "text/html": [
              "<div>\n",
              "<style scoped>\n",
              "    .dataframe tbody tr th:only-of-type {\n",
              "        vertical-align: middle;\n",
              "    }\n",
              "\n",
              "    .dataframe tbody tr th {\n",
              "        vertical-align: top;\n",
              "    }\n",
              "\n",
              "    .dataframe thead th {\n",
              "        text-align: right;\n",
              "    }\n",
              "</style>\n",
              "<table border=\"1\" class=\"dataframe\">\n",
              "  <thead>\n",
              "    <tr style=\"text-align: right;\">\n",
              "      <th></th>\n",
              "      <th>singer_code</th>\n",
              "      <th>singer_name</th>\n",
              "      <th>song_name</th>\n",
              "    </tr>\n",
              "  </thead>\n",
              "  <tbody>\n",
              "    <tr>\n",
              "      <th>0</th>\n",
              "      <td>0</td>\n",
              "      <td>singer_a</td>\n",
              "      <td>NaN</td>\n",
              "    </tr>\n",
              "    <tr>\n",
              "      <th>1</th>\n",
              "      <td>1</td>\n",
              "      <td>singer_b</td>\n",
              "      <td>NaN</td>\n",
              "    </tr>\n",
              "    <tr>\n",
              "      <th>2</th>\n",
              "      <td>2</td>\n",
              "      <td>singer_c</td>\n",
              "      <td>song_f</td>\n",
              "    </tr>\n",
              "    <tr>\n",
              "      <th>3</th>\n",
              "      <td>2</td>\n",
              "      <td>singer_c</td>\n",
              "      <td>song_g</td>\n",
              "    </tr>\n",
              "    <tr>\n",
              "      <th>4</th>\n",
              "      <td>3</td>\n",
              "      <td>singer_d</td>\n",
              "      <td>song_h</td>\n",
              "    </tr>\n",
              "    <tr>\n",
              "      <th>5</th>\n",
              "      <td>4</td>\n",
              "      <td>singer_e</td>\n",
              "      <td>song_i</td>\n",
              "    </tr>\n",
              "    <tr>\n",
              "      <th>6</th>\n",
              "      <td>5</td>\n",
              "      <td>NaN</td>\n",
              "      <td>song_j</td>\n",
              "    </tr>\n",
              "  </tbody>\n",
              "</table>\n",
              "</div>"
            ],
            "text/plain": [
              "   singer_code singer_name song_name\n",
              "0            0    singer_a       NaN\n",
              "1            1    singer_b       NaN\n",
              "2            2    singer_c    song_f\n",
              "3            2    singer_c    song_g\n",
              "4            3    singer_d    song_h\n",
              "5            4    singer_e    song_i\n",
              "6            5         NaN    song_j"
            ]
          },
          "metadata": {
            "tags": []
          },
          "execution_count": 27
        }
      ]
    },
    {
      "cell_type": "markdown",
      "metadata": {
        "id": "4qU3MAIxlb-L"
      },
      "source": [
        "We can also concatenate two dataframes vertically or horizontally via function `concat` and parameter `axis`. This function is useful when we need to append two similar datasets or to put them side by site"
      ]
    },
    {
      "cell_type": "code",
      "metadata": {
        "id": "suGhMHJ7lb-M",
        "colab": {
          "base_uri": "https://localhost:8080/",
          "height": 343
        },
        "outputId": "8898f447-8063-4acd-df8e-8601181b157c"
      },
      "source": [
        "# concat vertically\n",
        "pd.concat([singers, songs])"
      ],
      "execution_count": 28,
      "outputs": [
        {
          "output_type": "execute_result",
          "data": {
            "text/html": [
              "<div>\n",
              "<style scoped>\n",
              "    .dataframe tbody tr th:only-of-type {\n",
              "        vertical-align: middle;\n",
              "    }\n",
              "\n",
              "    .dataframe tbody tr th {\n",
              "        vertical-align: top;\n",
              "    }\n",
              "\n",
              "    .dataframe thead th {\n",
              "        text-align: right;\n",
              "    }\n",
              "</style>\n",
              "<table border=\"1\" class=\"dataframe\">\n",
              "  <thead>\n",
              "    <tr style=\"text-align: right;\">\n",
              "      <th></th>\n",
              "      <th>singer_code</th>\n",
              "      <th>singer_name</th>\n",
              "      <th>song_name</th>\n",
              "    </tr>\n",
              "  </thead>\n",
              "  <tbody>\n",
              "    <tr>\n",
              "      <th>0</th>\n",
              "      <td>0</td>\n",
              "      <td>singer_a</td>\n",
              "      <td>NaN</td>\n",
              "    </tr>\n",
              "    <tr>\n",
              "      <th>1</th>\n",
              "      <td>1</td>\n",
              "      <td>singer_b</td>\n",
              "      <td>NaN</td>\n",
              "    </tr>\n",
              "    <tr>\n",
              "      <th>2</th>\n",
              "      <td>2</td>\n",
              "      <td>singer_c</td>\n",
              "      <td>NaN</td>\n",
              "    </tr>\n",
              "    <tr>\n",
              "      <th>3</th>\n",
              "      <td>3</td>\n",
              "      <td>singer_d</td>\n",
              "      <td>NaN</td>\n",
              "    </tr>\n",
              "    <tr>\n",
              "      <th>4</th>\n",
              "      <td>4</td>\n",
              "      <td>singer_e</td>\n",
              "      <td>NaN</td>\n",
              "    </tr>\n",
              "    <tr>\n",
              "      <th>0</th>\n",
              "      <td>2</td>\n",
              "      <td>NaN</td>\n",
              "      <td>song_f</td>\n",
              "    </tr>\n",
              "    <tr>\n",
              "      <th>1</th>\n",
              "      <td>2</td>\n",
              "      <td>NaN</td>\n",
              "      <td>song_g</td>\n",
              "    </tr>\n",
              "    <tr>\n",
              "      <th>2</th>\n",
              "      <td>3</td>\n",
              "      <td>NaN</td>\n",
              "      <td>song_h</td>\n",
              "    </tr>\n",
              "    <tr>\n",
              "      <th>3</th>\n",
              "      <td>4</td>\n",
              "      <td>NaN</td>\n",
              "      <td>song_i</td>\n",
              "    </tr>\n",
              "    <tr>\n",
              "      <th>4</th>\n",
              "      <td>5</td>\n",
              "      <td>NaN</td>\n",
              "      <td>song_j</td>\n",
              "    </tr>\n",
              "  </tbody>\n",
              "</table>\n",
              "</div>"
            ],
            "text/plain": [
              "   singer_code singer_name song_name\n",
              "0            0    singer_a       NaN\n",
              "1            1    singer_b       NaN\n",
              "2            2    singer_c       NaN\n",
              "3            3    singer_d       NaN\n",
              "4            4    singer_e       NaN\n",
              "0            2         NaN    song_f\n",
              "1            2         NaN    song_g\n",
              "2            3         NaN    song_h\n",
              "3            4         NaN    song_i\n",
              "4            5         NaN    song_j"
            ]
          },
          "metadata": {
            "tags": []
          },
          "execution_count": 28
        }
      ]
    },
    {
      "cell_type": "code",
      "metadata": {
        "id": "HBM5g9lrlb-M",
        "colab": {
          "base_uri": "https://localhost:8080/",
          "height": 195
        },
        "outputId": "2edcd3e3-c411-4345-e5f6-3e9f0c66bda2"
      },
      "source": [
        "# concat horizontally\n",
        "pd.concat([singers, songs], axis=1)"
      ],
      "execution_count": 29,
      "outputs": [
        {
          "output_type": "execute_result",
          "data": {
            "text/html": [
              "<div>\n",
              "<style scoped>\n",
              "    .dataframe tbody tr th:only-of-type {\n",
              "        vertical-align: middle;\n",
              "    }\n",
              "\n",
              "    .dataframe tbody tr th {\n",
              "        vertical-align: top;\n",
              "    }\n",
              "\n",
              "    .dataframe thead th {\n",
              "        text-align: right;\n",
              "    }\n",
              "</style>\n",
              "<table border=\"1\" class=\"dataframe\">\n",
              "  <thead>\n",
              "    <tr style=\"text-align: right;\">\n",
              "      <th></th>\n",
              "      <th>singer_code</th>\n",
              "      <th>singer_name</th>\n",
              "      <th>singer_code</th>\n",
              "      <th>song_name</th>\n",
              "    </tr>\n",
              "  </thead>\n",
              "  <tbody>\n",
              "    <tr>\n",
              "      <th>0</th>\n",
              "      <td>0</td>\n",
              "      <td>singer_a</td>\n",
              "      <td>2</td>\n",
              "      <td>song_f</td>\n",
              "    </tr>\n",
              "    <tr>\n",
              "      <th>1</th>\n",
              "      <td>1</td>\n",
              "      <td>singer_b</td>\n",
              "      <td>2</td>\n",
              "      <td>song_g</td>\n",
              "    </tr>\n",
              "    <tr>\n",
              "      <th>2</th>\n",
              "      <td>2</td>\n",
              "      <td>singer_c</td>\n",
              "      <td>3</td>\n",
              "      <td>song_h</td>\n",
              "    </tr>\n",
              "    <tr>\n",
              "      <th>3</th>\n",
              "      <td>3</td>\n",
              "      <td>singer_d</td>\n",
              "      <td>4</td>\n",
              "      <td>song_i</td>\n",
              "    </tr>\n",
              "    <tr>\n",
              "      <th>4</th>\n",
              "      <td>4</td>\n",
              "      <td>singer_e</td>\n",
              "      <td>5</td>\n",
              "      <td>song_j</td>\n",
              "    </tr>\n",
              "  </tbody>\n",
              "</table>\n",
              "</div>"
            ],
            "text/plain": [
              "   singer_code singer_name  singer_code song_name\n",
              "0            0    singer_a            2    song_f\n",
              "1            1    singer_b            2    song_g\n",
              "2            2    singer_c            3    song_h\n",
              "3            3    singer_d            4    song_i\n",
              "4            4    singer_e            5    song_j"
            ]
          },
          "metadata": {
            "tags": []
          },
          "execution_count": 29
        }
      ]
    },
    {
      "cell_type": "markdown",
      "metadata": {
        "id": "5jZIg_2Flb-M"
      },
      "source": [
        "When computing descriptive statistic, we usually need to aggregate data by each group. For example, to answer the question \"how many songs each singer has?\", we have to group data by each singer, and then calculate the number of songs in each group. Not that the result must contain the statistic of all singers in database (even if some of them have no song)"
      ]
    },
    {
      "cell_type": "code",
      "metadata": {
        "id": "BwZIlubFlb-M",
        "colab": {
          "base_uri": "https://localhost:8080/"
        },
        "outputId": "2831ea92-50c8-4be0-d965-d74c9796b976"
      },
      "source": [
        "data = pd.merge(singers, songs, on='singer_code', how='left')\n",
        "\n",
        "# count the values of each column in group\n",
        "print(data.groupby('singer_code').count())\n",
        "\n",
        "print(\"\\n\")\n",
        "\n",
        "# count only song_name\n",
        "print(data.groupby('singer_code').song_name.count())\n",
        "\n",
        "print(\"\\n\")\n",
        "\n",
        "# count song name but ignore duplication, and order the result\n",
        "print(data.groupby('singer_code').song_name.nunique().sort_values(ascending=True))"
      ],
      "execution_count": 30,
      "outputs": [
        {
          "output_type": "stream",
          "text": [
            "             singer_name  song_name\n",
            "singer_code                        \n",
            "0                      1          0\n",
            "1                      1          0\n",
            "2                      2          2\n",
            "3                      1          1\n",
            "4                      1          1\n",
            "\n",
            "\n",
            "singer_code\n",
            "0    0\n",
            "1    0\n",
            "2    2\n",
            "3    1\n",
            "4    1\n",
            "Name: song_name, dtype: int64\n",
            "\n",
            "\n",
            "singer_code\n",
            "0    0\n",
            "1    0\n",
            "3    1\n",
            "4    1\n",
            "2    2\n",
            "Name: song_name, dtype: int64\n"
          ],
          "name": "stdout"
        }
      ]
    },
    {
      "cell_type": "markdown",
      "metadata": {
        "id": "Q3rPIJMBlb-M"
      },
      "source": [
        "### Question 4\n",
        "We have two datasets about music: [song](https://github.com/michiard/AML-COURSE/blob/master/data/song.tsv) and [album](https://github.com/michiard/AML-COURSE/blob/master/data/album.tsv).\n",
        "\n",
        "In the following questions, you **have to** use Pandas to load data and write code to answer these questions."
      ]
    },
    {
      "cell_type": "markdown",
      "metadata": {
        "id": "e4xdIlkwHBdc"
      },
      "source": [
        "\r\n",
        "#### Question 4.1\r\n",
        "<div class=\"alert alert-info\">\r\n",
        "Load both dataset into two dataframes and print the information of each dataframe\r\n",
        "\r\n",
        "**HINT**: \r\n",
        "\r\n",
        "- You can click button `Raw` on the github page of each dataset and copy the URL of the raw file.\r\n",
        "- The dataset can be load by using function `read_table`. For example: `df = pd.read_table(raw_url, sep='\\t')`\r\n",
        "</div>"
      ]
    },
    {
      "cell_type": "markdown",
      "metadata": {
        "id": "zgE_8Mx0lb-M"
      },
      "source": [
        "```python\n",
        "import pandas as pd\n",
        "\n",
        "songdb_url = 'https://raw.githubusercontent.com/DistributedSystemsGroup/Algorithmic-Machine-Learning/master/data/song.tsv'\n",
        "albumdb_url = 'https://raw.githubusercontent.com/DistributedSystemsGroup/Algorithmic-Machine-Learning/master/data/album.tsv'\n",
        "song_df = pd...\n",
        "album_df = pd...\n",
        "\n",
        "print(song_df...)\n",
        "print(album_df...)\n",
        "```"
      ]
    },
    {
      "cell_type": "markdown",
      "metadata": {
        "id": "gLSfXqD7HMVb"
      },
      "source": [
        "##### Answer"
      ]
    },
    {
      "cell_type": "code",
      "metadata": {
        "id": "OeNpoGgzHHKN",
        "colab": {
          "base_uri": "https://localhost:8080/"
        },
        "outputId": "18e5b56f-e0b4-4121-e98f-3122546f6339"
      },
      "source": [
        "import pandas as pd\r\n",
        " \r\n",
        "songdb_url = 'https://raw.githubusercontent.com/DistributedSystemsGroup/Algorithmic-Machine-Learning/v2018/data/song.tsv'\r\n",
        "albumdb_url = 'https://raw.githubusercontent.com/DistributedSystemsGroup/Algorithmic-Machine-Learning/v2018/data/album.tsv'\r\n",
        "song_df = pd.read_table(songdb_url, sep = '\\t')\r\n",
        "album_df = pd.read_table(albumdb_url, sep = '\\t')\r\n",
        "\r\n",
        "print(song_df.info())\r\n",
        "print(album_df.info())"
      ],
      "execution_count": 42,
      "outputs": [
        {
          "output_type": "stream",
          "text": [
            "<class 'pandas.core.frame.DataFrame'>\n",
            "RangeIndex: 10 entries, 0 to 9\n",
            "Data columns (total 4 columns):\n",
            " #   Column  Non-Null Count  Dtype  \n",
            "---  ------  --------------  -----  \n",
            " 0   Singer  10 non-null     object \n",
            " 1   Song    10 non-null     object \n",
            " 2   Album   9 non-null      float64\n",
            " 3   Length  10 non-null     object \n",
            "dtypes: float64(1), object(3)\n",
            "memory usage: 448.0+ bytes\n",
            "None\n",
            "<class 'pandas.core.frame.DataFrame'>\n",
            "RangeIndex: 7 entries, 0 to 6\n",
            "Data columns (total 3 columns):\n",
            " #   Column      Non-Null Count  Dtype \n",
            "---  ------      --------------  ----- \n",
            " 0   Album code  7 non-null      int64 \n",
            " 1   Album name  7 non-null      object\n",
            " 2   Year        7 non-null      int64 \n",
            "dtypes: int64(2), object(1)\n",
            "memory usage: 296.0+ bytes\n",
            "None\n"
          ],
          "name": "stdout"
        }
      ]
    },
    {
      "cell_type": "markdown",
      "metadata": {
        "id": "lssMj4rWlb-M"
      },
      "source": [
        "#### Question 4.2\n",
        "<div class=\"alert alert-info\">\n",
        "How many albums in this datasets ?\n",
        "\n",
        "How many songs in this datasets ?\n",
        "</div>"
      ]
    },
    {
      "cell_type": "markdown",
      "metadata": {
        "id": "BnrRAk9Ylb-M"
      },
      "source": [
        "```python\n",
        "print(\"number of albums:\", album_df....count())\n",
        "print(\"number of songs:\", song_df.Song...)\n",
        "```"
      ]
    },
    {
      "cell_type": "markdown",
      "metadata": {
        "id": "EJFfiYGtLbbn"
      },
      "source": [
        "##### Answer"
      ]
    },
    {
      "cell_type": "code",
      "metadata": {
        "colab": {
          "base_uri": "https://localhost:8080/"
        },
        "id": "n7MulgvvLdBx",
        "outputId": "bf788662-c894-4513-bead-4e40d7d7e99f"
      },
      "source": [
        "print(\"number of albums:\", album_df['Album code'].count())\r\n",
        "print(\"number of songs:\", song_df.Song.count())"
      ],
      "execution_count": 51,
      "outputs": [
        {
          "output_type": "stream",
          "text": [
            "number of albums: 7\n",
            "number of songs: 10\n"
          ],
          "name": "stdout"
        }
      ]
    },
    {
      "cell_type": "markdown",
      "metadata": {
        "id": "XCz1vNwflb-N"
      },
      "source": [
        "#### Question 4.3\n",
        "<div class=\"alert alert-info\">\n",
        "How many distinct singers in this dataset ?\n",
        "</div>"
      ]
    },
    {
      "cell_type": "markdown",
      "metadata": {
        "id": "KCaEQqnqlb-N"
      },
      "source": [
        "```python\n",
        "print(\"number distinct singers:\", len(...))\n",
        "```"
      ]
    },
    {
      "cell_type": "markdown",
      "metadata": {
        "id": "2qVUc9SWNMHA"
      },
      "source": [
        "##### Answer"
      ]
    },
    {
      "cell_type": "code",
      "metadata": {
        "colab": {
          "base_uri": "https://localhost:8080/"
        },
        "id": "0gzUCjOuNOKj",
        "outputId": "a32c8685-4a6f-4111-f574-82e10b07a07b"
      },
      "source": [
        "print(\"number distinct singers:\", len(song_df.Singer.unique()))"
      ],
      "execution_count": 54,
      "outputs": [
        {
          "output_type": "stream",
          "text": [
            "number distinct singers: 2\n"
          ],
          "name": "stdout"
        }
      ]
    },
    {
      "cell_type": "markdown",
      "metadata": {
        "id": "ygKoIqxwlb-N"
      },
      "source": [
        "#### Question 4.4\n",
        "<div class=\"alert alert-info\">\n",
        "Is there any song that doesn't belong to any album ?\n",
        "\n",
        "Is there any album that has no song ?\n",
        "\n",
        "**HINT**: \n",
        "\n",
        "- To join two datasets on different key names, we use `left_on=` and `right_on=` instead of `on=`.\n",
        "- Funtion `notnull` and `isnull` help determining the value of a column is missing or not. For example:\n",
        "`df['song'].isnull()`.\n",
        "</div>"
      ]
    },
    {
      "cell_type": "markdown",
      "metadata": {
        "id": "2ptpG7v6lb-N"
      },
      "source": [
        "```python\n",
        "fulldf = pd.merge(song_df, album_df, how='outer', left_on='Album', right_on='Album code')\n",
        "fulldf[fulldf['Song'].... & fulldf['Album']....]\n",
        "```"
      ]
    },
    {
      "cell_type": "markdown",
      "metadata": {
        "id": "-Dm0--P1lb-N"
      },
      "source": [
        "```python\n",
        "fulldf[fulldf['Song'].... & fulldf['Album code']....]\n",
        "```"
      ]
    },
    {
      "cell_type": "markdown",
      "metadata": {
        "id": "bGCJN3oQOILj"
      },
      "source": [
        "##### Answer"
      ]
    },
    {
      "cell_type": "code",
      "metadata": {
        "colab": {
          "base_uri": "https://localhost:8080/"
        },
        "id": "bKP2fnU1OJua",
        "outputId": "3bd21f9b-8a03-4ad9-9e3b-1c9b78ae5701"
      },
      "source": [
        "fulldf = pd.merge(song_df, album_df, how='outer', left_on='Album', right_on='Album code')\r\n",
        "# Song doesnt belong to any album:\r\n",
        "print(fulldf[fulldf['Song'].notnull() & fulldf['Album'].isnull()][['Song']])\r\n",
        "# Album that has no song\r\n",
        "print(fulldf[fulldf['Song'].isnull() & fulldf['Album code'].notnull()][['Album name']])"
      ],
      "execution_count": 138,
      "outputs": [
        {
          "output_type": "stream",
          "text": [
            "                   Song\n",
            "9  What More Can I Give\n",
            "   Album name\n",
            "10        Bad\n"
          ],
          "name": "stdout"
        }
      ]
    },
    {
      "cell_type": "markdown",
      "metadata": {
        "id": "DqZo3_Culb-N"
      },
      "source": [
        "#### Question 4.5\n",
        "<div class=\"alert alert-info\">\n",
        "How many songs in each albums of Michael Jackson ?\n",
        "</div>"
      ]
    },
    {
      "cell_type": "markdown",
      "metadata": {
        "id": "RwUK_PnKlb-N"
      },
      "source": [
        "```python\n",
        "\n",
        "# Try thinking like as for map reduce word count!!\n",
        "\n",
        "fulldf[fulldf['Singer']=='Michael Jackson']....\n",
        "```"
      ]
    },
    {
      "cell_type": "markdown",
      "metadata": {
        "id": "CO587FB7G_MM"
      },
      "source": [
        "##### Answer"
      ]
    },
    {
      "cell_type": "code",
      "metadata": {
        "colab": {
          "base_uri": "https://localhost:8080/"
        },
        "id": "5d8ZZ8-US3b1",
        "outputId": "b70db383-daac-4bc7-b0d1-fb7170e680be"
      },
      "source": [
        "print(fulldf[fulldf['Singer'] == 'Michael Jackson'][['Album name', 'Song']].groupby('Album name')['Song'].count())"
      ],
      "execution_count": 135,
      "outputs": [
        {
          "output_type": "stream",
          "text": [
            "Album name\n",
            "HIStory: Past, Present and Future, Book I    1\n",
            "Invincible                                   3\n",
            "Thriller                                     2\n",
            "Name: Song, dtype: int64\n"
          ],
          "name": "stdout"
        }
      ]
    },
    {
      "cell_type": "markdown",
      "metadata": {
        "id": "1YEiwDhVlb-O"
      },
      "source": [
        "# Summary\n",
        "\n",
        "In this laboratory, we gained familiarity with the Jupyter Notebook environment, the Python programming language and its modules. In particular, we covered the Python syntax, Numpy - the core library for scientific computing, Matplotlib - a module to plot graphs, Pandas - a data analysis module. "
      ]
    },
    {
      "cell_type": "markdown",
      "metadata": {
        "id": "b-XsH1lklb-O"
      },
      "source": [
        "# References\n",
        "This notebook is inspired from:\n",
        "\n",
        "- [Python Numpy tutorial](http://cs231n.github.io/python-numpy-tutorial/)"
      ]
    }
  ]
}